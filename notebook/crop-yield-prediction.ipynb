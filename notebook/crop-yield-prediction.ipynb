{
 "cells": [
  {
   "cell_type": "code",
   "execution_count": 1,
   "id": "0c870a79",
   "metadata": {
    "_cell_guid": "b1076dfc-b9ad-4769-8c92-a6c4dae69d19",
    "_uuid": "8f2839f25d086af736a60e9eeb907d3b93b6e0e5",
    "execution": {
     "iopub.execute_input": "2024-12-24T02:46:04.671952Z",
     "iopub.status.busy": "2024-12-24T02:46:04.671526Z",
     "iopub.status.idle": "2024-12-24T02:46:05.713252Z",
     "shell.execute_reply": "2024-12-24T02:46:05.711889Z"
    },
    "papermill": {
     "duration": 1.056003,
     "end_time": "2024-12-24T02:46:05.715870",
     "exception": false,
     "start_time": "2024-12-24T02:46:04.659867",
     "status": "completed"
    },
    "tags": []
   },
   "outputs": [
    {
     "name": "stdout",
     "output_type": "stream",
     "text": [
      "/kaggle/input/innovative-ai-challenge-2024/sample_submission.csv\n",
      "/kaggle/input/innovative-ai-challenge-2024/train.csv\n",
      "/kaggle/input/innovative-ai-challenge-2024/test.csv\n"
     ]
    }
   ],
   "source": [
    "# This Python 3 environment comes with many helpful analytics libraries installed\n",
    "# It is defined by the kaggle/python Docker image: https://github.com/kaggle/docker-python\n",
    "# For example, here's several helpful packages to load\n",
    "\n",
    "import numpy as np # linear algebra\n",
    "import pandas as pd # data processing, CSV file I/O (e.g. pd.read_csv)\n",
    "\n",
    "# Input data files are available in the read-only \"../input/\" directory\n",
    "# For example, running this (by clicking run or pressing Shift+Enter) will list all files under the input directory\n",
    "\n",
    "import os\n",
    "for dirname, _, filenames in os.walk('/kaggle/input'):\n",
    "    for filename in filenames:\n",
    "        print(os.path.join(dirname, filename))\n",
    "\n",
    "# You can write up to 20GB to the current directory (/kaggle/working/) that gets preserved as output when you create a version using \"Save & Run All\" \n",
    "# You can also write temporary files to /kaggle/temp/, but they won't be saved outside of the current session"
   ]
  },
  {
   "cell_type": "markdown",
   "id": "9b1cfa61",
   "metadata": {
    "papermill": {
     "duration": 0.009032,
     "end_time": "2024-12-24T02:46:05.736557",
     "exception": false,
     "start_time": "2024-12-24T02:46:05.727525",
     "status": "completed"
    },
    "tags": []
   },
   "source": [
    "## Initialization"
   ]
  },
  {
   "cell_type": "code",
   "execution_count": 2,
   "id": "48d22dc1",
   "metadata": {
    "_cell_guid": "b1076dfc-b9ad-4769-8c92-a6c4dae69d19",
    "_uuid": "8f2839f25d086af736a60e9eeb907d3b93b6e0e5",
    "execution": {
     "iopub.execute_input": "2024-12-24T02:46:05.757396Z",
     "iopub.status.busy": "2024-12-24T02:46:05.756855Z",
     "iopub.status.idle": "2024-12-24T02:46:07.681157Z",
     "shell.execute_reply": "2024-12-24T02:46:07.679820Z"
    },
    "papermill": {
     "duration": 1.938011,
     "end_time": "2024-12-24T02:46:07.683869",
     "exception": false,
     "start_time": "2024-12-24T02:46:05.745858",
     "status": "completed"
    },
    "tags": []
   },
   "outputs": [],
   "source": [
    "import pandas as pd\n",
    "import numpy as np\n",
    "\n",
    "from sklearn.compose import ColumnTransformer\n",
    "from sklearn.pipeline import Pipeline\n",
    "from sklearn.preprocessing import OneHotEncoder, StandardScaler, LabelEncoder\n",
    "from sklearn.preprocessing import MaxAbsScaler\n",
    "\n",
    "from sklearn.linear_model import LinearRegression\n",
    "from sklearn.model_selection import train_test_split\n",
    "from sklearn.metrics import mean_squared_error,mean_absolute_error,r2_score"
   ]
  },
  {
   "cell_type": "code",
   "execution_count": 3,
   "id": "1697b15d",
   "metadata": {
    "execution": {
     "iopub.execute_input": "2024-12-24T02:46:07.706884Z",
     "iopub.status.busy": "2024-12-24T02:46:07.706096Z",
     "iopub.status.idle": "2024-12-24T02:46:07.731020Z",
     "shell.execute_reply": "2024-12-24T02:46:07.729780Z"
    },
    "papermill": {
     "duration": 0.040102,
     "end_time": "2024-12-24T02:46:07.735131",
     "exception": false,
     "start_time": "2024-12-24T02:46:07.695029",
     "status": "completed"
    },
    "tags": []
   },
   "outputs": [],
   "source": [
    "df = pd.read_csv('/kaggle/input/innovative-ai-challenge-2024/train.csv')"
   ]
  },
  {
   "cell_type": "code",
   "execution_count": 4,
   "id": "cbb0fbc7",
   "metadata": {
    "execution": {
     "iopub.execute_input": "2024-12-24T02:46:07.768824Z",
     "iopub.status.busy": "2024-12-24T02:46:07.768216Z",
     "iopub.status.idle": "2024-12-24T02:46:07.779571Z",
     "shell.execute_reply": "2024-12-24T02:46:07.778110Z"
    },
    "papermill": {
     "duration": 0.028335,
     "end_time": "2024-12-24T02:46:07.782954",
     "exception": false,
     "start_time": "2024-12-24T02:46:07.754619",
     "status": "completed"
    },
    "tags": []
   },
   "outputs": [],
   "source": [
    "df.rename(columns={'Crop_Yield (kg/ha)': 'cy'}, inplace=True)"
   ]
  },
  {
   "cell_type": "code",
   "execution_count": 5,
   "id": "592c777d",
   "metadata": {
    "execution": {
     "iopub.execute_input": "2024-12-24T02:46:07.812015Z",
     "iopub.status.busy": "2024-12-24T02:46:07.811581Z",
     "iopub.status.idle": "2024-12-24T02:46:07.832280Z",
     "shell.execute_reply": "2024-12-24T02:46:07.831169Z"
    },
    "papermill": {
     "duration": 0.034134,
     "end_time": "2024-12-24T02:46:07.834595",
     "exception": false,
     "start_time": "2024-12-24T02:46:07.800461",
     "status": "completed"
    },
    "tags": []
   },
   "outputs": [
    {
     "data": {
      "text/html": [
       "<div>\n",
       "<style scoped>\n",
       "    .dataframe tbody tr th:only-of-type {\n",
       "        vertical-align: middle;\n",
       "    }\n",
       "\n",
       "    .dataframe tbody tr th {\n",
       "        vertical-align: top;\n",
       "    }\n",
       "\n",
       "    .dataframe thead th {\n",
       "        text-align: right;\n",
       "    }\n",
       "</style>\n",
       "<table border=\"1\" class=\"dataframe\">\n",
       "  <thead>\n",
       "    <tr style=\"text-align: right;\">\n",
       "      <th></th>\n",
       "      <th>id</th>\n",
       "      <th>Year</th>\n",
       "      <th>State</th>\n",
       "      <th>Crop_Type</th>\n",
       "      <th>Rainfall</th>\n",
       "      <th>Soil_Type</th>\n",
       "      <th>Irrigation_Area</th>\n",
       "      <th>cy</th>\n",
       "    </tr>\n",
       "  </thead>\n",
       "  <tbody>\n",
       "    <tr>\n",
       "      <th>0</th>\n",
       "      <td>1</td>\n",
       "      <td>2019</td>\n",
       "      <td>Punjab</td>\n",
       "      <td>Wheat</td>\n",
       "      <td>578.6</td>\n",
       "      <td>Loamy</td>\n",
       "      <td>3515.2</td>\n",
       "      <td>5188</td>\n",
       "    </tr>\n",
       "    <tr>\n",
       "      <th>1</th>\n",
       "      <td>2</td>\n",
       "      <td>2018</td>\n",
       "      <td>Punjab</td>\n",
       "      <td>Wheat</td>\n",
       "      <td>598.3</td>\n",
       "      <td>Loamy</td>\n",
       "      <td>3499.3</td>\n",
       "      <td>5077</td>\n",
       "    </tr>\n",
       "    <tr>\n",
       "      <th>2</th>\n",
       "      <td>3</td>\n",
       "      <td>2017</td>\n",
       "      <td>Punjab</td>\n",
       "      <td>Wheat</td>\n",
       "      <td>493.0</td>\n",
       "      <td>Loamy</td>\n",
       "      <td>3467.7</td>\n",
       "      <td>5046</td>\n",
       "    </tr>\n",
       "    <tr>\n",
       "      <th>3</th>\n",
       "      <td>4</td>\n",
       "      <td>2016</td>\n",
       "      <td>Punjab</td>\n",
       "      <td>Wheat</td>\n",
       "      <td>426.7</td>\n",
       "      <td>Loamy</td>\n",
       "      <td>3474.6</td>\n",
       "      <td>4583</td>\n",
       "    </tr>\n",
       "    <tr>\n",
       "      <th>4</th>\n",
       "      <td>5</td>\n",
       "      <td>2015</td>\n",
       "      <td>Punjab</td>\n",
       "      <td>Wheat</td>\n",
       "      <td>546.9</td>\n",
       "      <td>Loamy</td>\n",
       "      <td>3474.7</td>\n",
       "      <td>4304</td>\n",
       "    </tr>\n",
       "  </tbody>\n",
       "</table>\n",
       "</div>"
      ],
      "text/plain": [
       "   id  Year   State Crop_Type  Rainfall Soil_Type  Irrigation_Area    cy\n",
       "0   1  2019  Punjab     Wheat     578.6     Loamy           3515.2  5188\n",
       "1   2  2018  Punjab     Wheat     598.3     Loamy           3499.3  5077\n",
       "2   3  2017  Punjab     Wheat     493.0     Loamy           3467.7  5046\n",
       "3   4  2016  Punjab     Wheat     426.7     Loamy           3474.6  4583\n",
       "4   5  2015  Punjab     Wheat     546.9     Loamy           3474.7  4304"
      ]
     },
     "execution_count": 5,
     "metadata": {},
     "output_type": "execute_result"
    }
   ],
   "source": [
    "df.head()"
   ]
  },
  {
   "cell_type": "code",
   "execution_count": 6,
   "id": "dd1f7ac4",
   "metadata": {
    "execution": {
     "iopub.execute_input": "2024-12-24T02:46:07.854455Z",
     "iopub.status.busy": "2024-12-24T02:46:07.854043Z",
     "iopub.status.idle": "2024-12-24T02:46:07.861407Z",
     "shell.execute_reply": "2024-12-24T02:46:07.860225Z"
    },
    "papermill": {
     "duration": 0.019794,
     "end_time": "2024-12-24T02:46:07.863497",
     "exception": false,
     "start_time": "2024-12-24T02:46:07.843703",
     "status": "completed"
    },
    "tags": []
   },
   "outputs": [
    {
     "data": {
      "text/plain": [
       "(55, 8)"
      ]
     },
     "execution_count": 6,
     "metadata": {},
     "output_type": "execute_result"
    }
   ],
   "source": [
    "df.shape"
   ]
  },
  {
   "cell_type": "code",
   "execution_count": 7,
   "id": "00465afa",
   "metadata": {
    "execution": {
     "iopub.execute_input": "2024-12-24T02:46:07.884247Z",
     "iopub.status.busy": "2024-12-24T02:46:07.883810Z",
     "iopub.status.idle": "2024-12-24T02:46:07.921490Z",
     "shell.execute_reply": "2024-12-24T02:46:07.919949Z"
    },
    "papermill": {
     "duration": 0.052202,
     "end_time": "2024-12-24T02:46:07.925425",
     "exception": false,
     "start_time": "2024-12-24T02:46:07.873223",
     "status": "completed"
    },
    "tags": []
   },
   "outputs": [
    {
     "data": {
      "text/html": [
       "<div>\n",
       "<style scoped>\n",
       "    .dataframe tbody tr th:only-of-type {\n",
       "        vertical-align: middle;\n",
       "    }\n",
       "\n",
       "    .dataframe tbody tr th {\n",
       "        vertical-align: top;\n",
       "    }\n",
       "\n",
       "    .dataframe thead th {\n",
       "        text-align: right;\n",
       "    }\n",
       "</style>\n",
       "<table border=\"1\" class=\"dataframe\">\n",
       "  <thead>\n",
       "    <tr style=\"text-align: right;\">\n",
       "      <th></th>\n",
       "      <th>id</th>\n",
       "      <th>Year</th>\n",
       "      <th>Rainfall</th>\n",
       "      <th>Irrigation_Area</th>\n",
       "      <th>cy</th>\n",
       "    </tr>\n",
       "  </thead>\n",
       "  <tbody>\n",
       "    <tr>\n",
       "      <th>count</th>\n",
       "      <td>55.00000</td>\n",
       "      <td>55.000000</td>\n",
       "      <td>55.000000</td>\n",
       "      <td>55.000000</td>\n",
       "      <td>55.000000</td>\n",
       "    </tr>\n",
       "    <tr>\n",
       "      <th>mean</th>\n",
       "      <td>28.00000</td>\n",
       "      <td>2009.527273</td>\n",
       "      <td>473.881818</td>\n",
       "      <td>2082.207273</td>\n",
       "      <td>3079.418182</td>\n",
       "    </tr>\n",
       "    <tr>\n",
       "      <th>std</th>\n",
       "      <td>16.02082</td>\n",
       "      <td>6.394021</td>\n",
       "      <td>106.836760</td>\n",
       "      <td>1495.190498</td>\n",
       "      <td>1706.608372</td>\n",
       "    </tr>\n",
       "    <tr>\n",
       "      <th>min</th>\n",
       "      <td>1.00000</td>\n",
       "      <td>2000.000000</td>\n",
       "      <td>218.900000</td>\n",
       "      <td>1.200000</td>\n",
       "      <td>0.000000</td>\n",
       "    </tr>\n",
       "    <tr>\n",
       "      <th>25%</th>\n",
       "      <td>14.50000</td>\n",
       "      <td>2004.000000</td>\n",
       "      <td>391.900000</td>\n",
       "      <td>5.500000</td>\n",
       "      <td>985.500000</td>\n",
       "    </tr>\n",
       "    <tr>\n",
       "      <th>50%</th>\n",
       "      <td>28.00000</td>\n",
       "      <td>2009.000000</td>\n",
       "      <td>459.500000</td>\n",
       "      <td>2721.800000</td>\n",
       "      <td>3943.000000</td>\n",
       "    </tr>\n",
       "    <tr>\n",
       "      <th>75%</th>\n",
       "      <td>41.50000</td>\n",
       "      <td>2015.000000</td>\n",
       "      <td>561.400000</td>\n",
       "      <td>3393.250000</td>\n",
       "      <td>4305.500000</td>\n",
       "    </tr>\n",
       "    <tr>\n",
       "      <th>max</th>\n",
       "      <td>55.00000</td>\n",
       "      <td>2021.000000</td>\n",
       "      <td>662.800000</td>\n",
       "      <td>3515.200000</td>\n",
       "      <td>5188.000000</td>\n",
       "    </tr>\n",
       "  </tbody>\n",
       "</table>\n",
       "</div>"
      ],
      "text/plain": [
       "             id         Year    Rainfall  Irrigation_Area           cy\n",
       "count  55.00000    55.000000   55.000000        55.000000    55.000000\n",
       "mean   28.00000  2009.527273  473.881818      2082.207273  3079.418182\n",
       "std    16.02082     6.394021  106.836760      1495.190498  1706.608372\n",
       "min     1.00000  2000.000000  218.900000         1.200000     0.000000\n",
       "25%    14.50000  2004.000000  391.900000         5.500000   985.500000\n",
       "50%    28.00000  2009.000000  459.500000      2721.800000  3943.000000\n",
       "75%    41.50000  2015.000000  561.400000      3393.250000  4305.500000\n",
       "max    55.00000  2021.000000  662.800000      3515.200000  5188.000000"
      ]
     },
     "execution_count": 7,
     "metadata": {},
     "output_type": "execute_result"
    }
   ],
   "source": [
    "df.describe()"
   ]
  },
  {
   "cell_type": "code",
   "execution_count": 8,
   "id": "d1bfbcaf",
   "metadata": {
    "execution": {
     "iopub.execute_input": "2024-12-24T02:46:07.953923Z",
     "iopub.status.busy": "2024-12-24T02:46:07.953469Z",
     "iopub.status.idle": "2024-12-24T02:46:07.962734Z",
     "shell.execute_reply": "2024-12-24T02:46:07.961562Z"
    },
    "papermill": {
     "duration": 0.028894,
     "end_time": "2024-12-24T02:46:07.965004",
     "exception": false,
     "start_time": "2024-12-24T02:46:07.936110",
     "status": "completed"
    },
    "tags": []
   },
   "outputs": [
    {
     "data": {
      "text/plain": [
       "id                 0\n",
       "Year               0\n",
       "State              0\n",
       "Crop_Type          0\n",
       "Rainfall           0\n",
       "Soil_Type          0\n",
       "Irrigation_Area    0\n",
       "cy                 0\n",
       "dtype: int64"
      ]
     },
     "execution_count": 8,
     "metadata": {},
     "output_type": "execute_result"
    }
   ],
   "source": [
    "df.isna().sum()"
   ]
  },
  {
   "cell_type": "code",
   "execution_count": 9,
   "id": "8edf8f49",
   "metadata": {
    "execution": {
     "iopub.execute_input": "2024-12-24T02:46:07.987003Z",
     "iopub.status.busy": "2024-12-24T02:46:07.986487Z",
     "iopub.status.idle": "2024-12-24T02:46:07.995348Z",
     "shell.execute_reply": "2024-12-24T02:46:07.993998Z"
    },
    "papermill": {
     "duration": 0.023085,
     "end_time": "2024-12-24T02:46:07.998347",
     "exception": false,
     "start_time": "2024-12-24T02:46:07.975262",
     "status": "completed"
    },
    "tags": []
   },
   "outputs": [
    {
     "data": {
      "text/plain": [
       "['Crop_Type', 'Soil_Type']"
      ]
     },
     "execution_count": 9,
     "metadata": {},
     "output_type": "execute_result"
    }
   ],
   "source": [
    "# Category columns\n",
    "categorical_cols = list(df.select_dtypes(include=['object']).columns)[1:]\n",
    "categorical_cols"
   ]
  },
  {
   "cell_type": "code",
   "execution_count": 10,
   "id": "60a2f37b",
   "metadata": {
    "execution": {
     "iopub.execute_input": "2024-12-24T02:46:08.025268Z",
     "iopub.status.busy": "2024-12-24T02:46:08.024870Z",
     "iopub.status.idle": "2024-12-24T02:46:08.034585Z",
     "shell.execute_reply": "2024-12-24T02:46:08.033289Z"
    },
    "papermill": {
     "duration": 0.024219,
     "end_time": "2024-12-24T02:46:08.037158",
     "exception": false,
     "start_time": "2024-12-24T02:46:08.012939",
     "status": "completed"
    },
    "tags": []
   },
   "outputs": [
    {
     "data": {
      "text/plain": [
       "['Rainfall', 'Irrigation_Area']"
      ]
     },
     "execution_count": 10,
     "metadata": {},
     "output_type": "execute_result"
    }
   ],
   "source": [
    "numerical_cols = list(df.select_dtypes(exclude='object').columns)[2:4]\n",
    "numerical_cols"
   ]
  },
  {
   "cell_type": "markdown",
   "id": "7c3c190f",
   "metadata": {
    "papermill": {
     "duration": 0.009896,
     "end_time": "2024-12-24T02:46:08.057285",
     "exception": false,
     "start_time": "2024-12-24T02:46:08.047389",
     "status": "completed"
    },
    "tags": []
   },
   "source": [
    "## Preprocessing "
   ]
  },
  {
   "cell_type": "code",
   "execution_count": 11,
   "id": "0f5b1e6f",
   "metadata": {
    "execution": {
     "iopub.execute_input": "2024-12-24T02:46:08.078267Z",
     "iopub.status.busy": "2024-12-24T02:46:08.077871Z",
     "iopub.status.idle": "2024-12-24T02:46:08.084977Z",
     "shell.execute_reply": "2024-12-24T02:46:08.083760Z"
    },
    "papermill": {
     "duration": 0.020242,
     "end_time": "2024-12-24T02:46:08.087121",
     "exception": false,
     "start_time": "2024-12-24T02:46:08.066879",
     "status": "completed"
    },
    "tags": []
   },
   "outputs": [],
   "source": [
    "def apply_transformations(df, categorical_cols, numerical_cols):\n",
    "    \"\"\"\n",
    "    Apply transformations on the DataFrame:\n",
    "    - OneHotEncoding for categorical columns (including 'Year', 'Crop_Type', 'Soil_Type')\n",
    "    - StandardScaling for numerical columns ('Rainfall', 'Irrigation_Area')\n",
    "    \n",
    "    Parameters:\n",
    "    df (pd.DataFrame): Input DataFrame to preprocess\n",
    "    categorical_cols (list): List of categorical column names\n",
    "    numerical_cols (list): List of numerical column names\n",
    "    \n",
    "    Returns:\n",
    "    pd.DataFrame: Transformed DataFrame ready for model building\n",
    "    \"\"\"\n",
    "    # Step 1: OneHotEncode categorical columns\n",
    "    encoder = OneHotEncoder(sparse_output=False, drop='first')  # drop first to avoid dummy variable trap\n",
    "    categorical_data = encoder.fit_transform(df[categorical_cols])\n",
    "    categorical_df = pd.DataFrame(categorical_data, columns=encoder.get_feature_names_out(categorical_cols))\n",
    "    \n",
    "    numerical_df = df.select_dtypes(include='float64')\n",
    "    # Concatenate the processed categorical and numerical data\n",
    "    df_transformed = pd.concat([categorical_df, numerical_df], axis=1)\n",
    "\n",
    "    return df_transformed\n"
   ]
  },
  {
   "cell_type": "code",
   "execution_count": 12,
   "id": "f4251126",
   "metadata": {
    "execution": {
     "iopub.execute_input": "2024-12-24T02:46:08.109159Z",
     "iopub.status.busy": "2024-12-24T02:46:08.108706Z",
     "iopub.status.idle": "2024-12-24T02:46:08.132030Z",
     "shell.execute_reply": "2024-12-24T02:46:08.130925Z"
    },
    "papermill": {
     "duration": 0.037246,
     "end_time": "2024-12-24T02:46:08.134607",
     "exception": false,
     "start_time": "2024-12-24T02:46:08.097361",
     "status": "completed"
    },
    "tags": []
   },
   "outputs": [],
   "source": [
    "df_transformed = apply_transformations(df.drop(columns=['Year','id','State','cy']), categorical_cols, numerical_cols)\n",
    "year_encoder = LabelEncoder()\n",
    "df_transformed['Year_Encoded'] = year_encoder.fit_transform(df['Year'])\n",
    "df_transformed['cy']=df['cy']"
   ]
  },
  {
   "cell_type": "code",
   "execution_count": 13,
   "id": "1686963a",
   "metadata": {
    "execution": {
     "iopub.execute_input": "2024-12-24T02:46:08.156842Z",
     "iopub.status.busy": "2024-12-24T02:46:08.155652Z",
     "iopub.status.idle": "2024-12-24T02:46:08.188016Z",
     "shell.execute_reply": "2024-12-24T02:46:08.186558Z"
    },
    "papermill": {
     "duration": 0.046077,
     "end_time": "2024-12-24T02:46:08.190607",
     "exception": false,
     "start_time": "2024-12-24T02:46:08.144530",
     "status": "completed"
    },
    "tags": []
   },
   "outputs": [
    {
     "data": {
      "text/html": [
       "<div>\n",
       "<style scoped>\n",
       "    .dataframe tbody tr th:only-of-type {\n",
       "        vertical-align: middle;\n",
       "    }\n",
       "\n",
       "    .dataframe tbody tr th {\n",
       "        vertical-align: top;\n",
       "    }\n",
       "\n",
       "    .dataframe thead th {\n",
       "        text-align: right;\n",
       "    }\n",
       "</style>\n",
       "<table border=\"1\" class=\"dataframe\">\n",
       "  <thead>\n",
       "    <tr style=\"text-align: right;\">\n",
       "      <th></th>\n",
       "      <th>Crop_Type_Rice</th>\n",
       "      <th>Crop_Type_Wheat</th>\n",
       "      <th>Soil_Type_alluvial</th>\n",
       "      <th>Rainfall</th>\n",
       "      <th>Irrigation_Area</th>\n",
       "      <th>Year_Encoded</th>\n",
       "      <th>cy</th>\n",
       "    </tr>\n",
       "  </thead>\n",
       "  <tbody>\n",
       "    <tr>\n",
       "      <th>0</th>\n",
       "      <td>0.0</td>\n",
       "      <td>1.0</td>\n",
       "      <td>0.0</td>\n",
       "      <td>578.6</td>\n",
       "      <td>3515.2</td>\n",
       "      <td>18</td>\n",
       "      <td>5188</td>\n",
       "    </tr>\n",
       "    <tr>\n",
       "      <th>1</th>\n",
       "      <td>0.0</td>\n",
       "      <td>1.0</td>\n",
       "      <td>0.0</td>\n",
       "      <td>598.3</td>\n",
       "      <td>3499.3</td>\n",
       "      <td>17</td>\n",
       "      <td>5077</td>\n",
       "    </tr>\n",
       "    <tr>\n",
       "      <th>2</th>\n",
       "      <td>0.0</td>\n",
       "      <td>1.0</td>\n",
       "      <td>0.0</td>\n",
       "      <td>493.0</td>\n",
       "      <td>3467.7</td>\n",
       "      <td>16</td>\n",
       "      <td>5046</td>\n",
       "    </tr>\n",
       "    <tr>\n",
       "      <th>3</th>\n",
       "      <td>0.0</td>\n",
       "      <td>1.0</td>\n",
       "      <td>0.0</td>\n",
       "      <td>426.7</td>\n",
       "      <td>3474.6</td>\n",
       "      <td>15</td>\n",
       "      <td>4583</td>\n",
       "    </tr>\n",
       "    <tr>\n",
       "      <th>4</th>\n",
       "      <td>0.0</td>\n",
       "      <td>1.0</td>\n",
       "      <td>0.0</td>\n",
       "      <td>546.9</td>\n",
       "      <td>3474.7</td>\n",
       "      <td>14</td>\n",
       "      <td>4304</td>\n",
       "    </tr>\n",
       "    <tr>\n",
       "      <th>5</th>\n",
       "      <td>0.0</td>\n",
       "      <td>1.0</td>\n",
       "      <td>0.0</td>\n",
       "      <td>384.9</td>\n",
       "      <td>3474.7</td>\n",
       "      <td>13</td>\n",
       "      <td>5017</td>\n",
       "    </tr>\n",
       "    <tr>\n",
       "      <th>6</th>\n",
       "      <td>0.0</td>\n",
       "      <td>1.0</td>\n",
       "      <td>0.0</td>\n",
       "      <td>619.7</td>\n",
       "      <td>3488.1</td>\n",
       "      <td>12</td>\n",
       "      <td>4724</td>\n",
       "    </tr>\n",
       "    <tr>\n",
       "      <th>7</th>\n",
       "      <td>0.0</td>\n",
       "      <td>1.0</td>\n",
       "      <td>0.0</td>\n",
       "      <td>218.9</td>\n",
       "      <td>3466.9</td>\n",
       "      <td>11</td>\n",
       "      <td>4693</td>\n",
       "    </tr>\n",
       "    <tr>\n",
       "      <th>8</th>\n",
       "      <td>0.0</td>\n",
       "      <td>1.0</td>\n",
       "      <td>0.0</td>\n",
       "      <td>472.1</td>\n",
       "      <td>3474.8</td>\n",
       "      <td>10</td>\n",
       "      <td>4307</td>\n",
       "    </tr>\n",
       "    <tr>\n",
       "      <th>9</th>\n",
       "      <td>0.0</td>\n",
       "      <td>1.0</td>\n",
       "      <td>0.0</td>\n",
       "      <td>384.9</td>\n",
       "      <td>3474.8</td>\n",
       "      <td>9</td>\n",
       "      <td>4462</td>\n",
       "    </tr>\n",
       "    <tr>\n",
       "      <th>10</th>\n",
       "      <td>0.0</td>\n",
       "      <td>1.0</td>\n",
       "      <td>0.0</td>\n",
       "      <td>529.2</td>\n",
       "      <td>3437.9</td>\n",
       "      <td>8</td>\n",
       "      <td>4507</td>\n",
       "    </tr>\n",
       "    <tr>\n",
       "      <th>11</th>\n",
       "      <td>0.0</td>\n",
       "      <td>1.0</td>\n",
       "      <td>0.0</td>\n",
       "      <td>438.0</td>\n",
       "      <td>3406.9</td>\n",
       "      <td>7</td>\n",
       "      <td>4210</td>\n",
       "    </tr>\n",
       "    <tr>\n",
       "      <th>12</th>\n",
       "      <td>0.0</td>\n",
       "      <td>1.0</td>\n",
       "      <td>0.0</td>\n",
       "      <td>418.3</td>\n",
       "      <td>3404.8</td>\n",
       "      <td>6</td>\n",
       "      <td>4179</td>\n",
       "    </tr>\n",
       "    <tr>\n",
       "      <th>13</th>\n",
       "      <td>0.0</td>\n",
       "      <td>1.0</td>\n",
       "      <td>0.0</td>\n",
       "      <td>565.9</td>\n",
       "      <td>3410.5</td>\n",
       "      <td>5</td>\n",
       "      <td>4221</td>\n",
       "    </tr>\n",
       "    <tr>\n",
       "      <th>14</th>\n",
       "      <td>0.0</td>\n",
       "      <td>1.0</td>\n",
       "      <td>0.0</td>\n",
       "      <td>375.2</td>\n",
       "      <td>3381.7</td>\n",
       "      <td>4</td>\n",
       "      <td>4207</td>\n",
       "    </tr>\n",
       "    <tr>\n",
       "      <th>15</th>\n",
       "      <td>0.0</td>\n",
       "      <td>1.0</td>\n",
       "      <td>0.0</td>\n",
       "      <td>459.5</td>\n",
       "      <td>3311.6</td>\n",
       "      <td>3</td>\n",
       "      <td>4200</td>\n",
       "    </tr>\n",
       "    <tr>\n",
       "      <th>16</th>\n",
       "      <td>0.0</td>\n",
       "      <td>1.0</td>\n",
       "      <td>0.0</td>\n",
       "      <td>314.5</td>\n",
       "      <td>3353.5</td>\n",
       "      <td>2</td>\n",
       "      <td>4532</td>\n",
       "    </tr>\n",
       "    <tr>\n",
       "      <th>17</th>\n",
       "      <td>0.0</td>\n",
       "      <td>1.0</td>\n",
       "      <td>0.0</td>\n",
       "      <td>662.8</td>\n",
       "      <td>3333.6</td>\n",
       "      <td>1</td>\n",
       "      <td>4563</td>\n",
       "    </tr>\n",
       "    <tr>\n",
       "      <th>18</th>\n",
       "      <td>0.0</td>\n",
       "      <td>1.0</td>\n",
       "      <td>0.0</td>\n",
       "      <td>391.9</td>\n",
       "      <td>3284.3</td>\n",
       "      <td>0</td>\n",
       "      <td>4696</td>\n",
       "    </tr>\n",
       "    <tr>\n",
       "      <th>19</th>\n",
       "      <td>1.0</td>\n",
       "      <td>0.0</td>\n",
       "      <td>1.0</td>\n",
       "      <td>556.9</td>\n",
       "      <td>3229.5</td>\n",
       "      <td>20</td>\n",
       "      <td>4443</td>\n",
       "    </tr>\n",
       "    <tr>\n",
       "      <th>20</th>\n",
       "      <td>1.0</td>\n",
       "      <td>0.0</td>\n",
       "      <td>1.0</td>\n",
       "      <td>602.6</td>\n",
       "      <td>3118.8</td>\n",
       "      <td>19</td>\n",
       "      <td>4034</td>\n",
       "    </tr>\n",
       "    <tr>\n",
       "      <th>21</th>\n",
       "      <td>1.0</td>\n",
       "      <td>0.0</td>\n",
       "      <td>1.0</td>\n",
       "      <td>426.7</td>\n",
       "      <td>2961.4</td>\n",
       "      <td>15</td>\n",
       "      <td>3974</td>\n",
       "    </tr>\n",
       "    <tr>\n",
       "      <th>22</th>\n",
       "      <td>1.0</td>\n",
       "      <td>0.0</td>\n",
       "      <td>1.0</td>\n",
       "      <td>546.9</td>\n",
       "      <td>2838.3</td>\n",
       "      <td>14</td>\n",
       "      <td>3838</td>\n",
       "    </tr>\n",
       "    <tr>\n",
       "      <th>23</th>\n",
       "      <td>1.0</td>\n",
       "      <td>0.0</td>\n",
       "      <td>1.0</td>\n",
       "      <td>384.9</td>\n",
       "      <td>2838.3</td>\n",
       "      <td>13</td>\n",
       "      <td>3952</td>\n",
       "    </tr>\n",
       "    <tr>\n",
       "      <th>24</th>\n",
       "      <td>1.0</td>\n",
       "      <td>0.0</td>\n",
       "      <td>1.0</td>\n",
       "      <td>619.7</td>\n",
       "      <td>2837.6</td>\n",
       "      <td>12</td>\n",
       "      <td>3998</td>\n",
       "    </tr>\n",
       "    <tr>\n",
       "      <th>25</th>\n",
       "      <td>1.0</td>\n",
       "      <td>0.0</td>\n",
       "      <td>1.0</td>\n",
       "      <td>218.9</td>\n",
       "      <td>2814.2</td>\n",
       "      <td>11</td>\n",
       "      <td>3828</td>\n",
       "    </tr>\n",
       "    <tr>\n",
       "      <th>26</th>\n",
       "      <td>1.0</td>\n",
       "      <td>0.0</td>\n",
       "      <td>1.0</td>\n",
       "      <td>472.1</td>\n",
       "      <td>2721.8</td>\n",
       "      <td>10</td>\n",
       "      <td>4010</td>\n",
       "    </tr>\n",
       "    <tr>\n",
       "      <th>27</th>\n",
       "      <td>1.0</td>\n",
       "      <td>0.0</td>\n",
       "      <td>1.0</td>\n",
       "      <td>384.9</td>\n",
       "      <td>2721.8</td>\n",
       "      <td>9</td>\n",
       "      <td>4022</td>\n",
       "    </tr>\n",
       "    <tr>\n",
       "      <th>28</th>\n",
       "      <td>1.0</td>\n",
       "      <td>0.0</td>\n",
       "      <td>1.0</td>\n",
       "      <td>529.2</td>\n",
       "      <td>2592.2</td>\n",
       "      <td>8</td>\n",
       "      <td>4019</td>\n",
       "    </tr>\n",
       "    <tr>\n",
       "      <th>29</th>\n",
       "      <td>1.0</td>\n",
       "      <td>0.0</td>\n",
       "      <td>1.0</td>\n",
       "      <td>438.0</td>\n",
       "      <td>2602.4</td>\n",
       "      <td>7</td>\n",
       "      <td>3868</td>\n",
       "    </tr>\n",
       "    <tr>\n",
       "      <th>30</th>\n",
       "      <td>1.0</td>\n",
       "      <td>0.0</td>\n",
       "      <td>1.0</td>\n",
       "      <td>418.3</td>\n",
       "      <td>2639.9</td>\n",
       "      <td>6</td>\n",
       "      <td>3858</td>\n",
       "    </tr>\n",
       "    <tr>\n",
       "      <th>31</th>\n",
       "      <td>1.0</td>\n",
       "      <td>0.0</td>\n",
       "      <td>1.0</td>\n",
       "      <td>565.9</td>\n",
       "      <td>2632.3</td>\n",
       "      <td>5</td>\n",
       "      <td>3943</td>\n",
       "    </tr>\n",
       "    <tr>\n",
       "      <th>32</th>\n",
       "      <td>1.0</td>\n",
       "      <td>0.0</td>\n",
       "      <td>1.0</td>\n",
       "      <td>375.2</td>\n",
       "      <td>2599.6</td>\n",
       "      <td>4</td>\n",
       "      <td>3694</td>\n",
       "    </tr>\n",
       "    <tr>\n",
       "      <th>33</th>\n",
       "      <td>1.0</td>\n",
       "      <td>0.0</td>\n",
       "      <td>1.0</td>\n",
       "      <td>459.5</td>\n",
       "      <td>2515.7</td>\n",
       "      <td>3</td>\n",
       "      <td>3510</td>\n",
       "    </tr>\n",
       "    <tr>\n",
       "      <th>34</th>\n",
       "      <td>1.0</td>\n",
       "      <td>0.0</td>\n",
       "      <td>1.0</td>\n",
       "      <td>314.5</td>\n",
       "      <td>2471.0</td>\n",
       "      <td>2</td>\n",
       "      <td>3545</td>\n",
       "    </tr>\n",
       "    <tr>\n",
       "      <th>35</th>\n",
       "      <td>1.0</td>\n",
       "      <td>0.0</td>\n",
       "      <td>1.0</td>\n",
       "      <td>662.8</td>\n",
       "      <td>2590.3</td>\n",
       "      <td>1</td>\n",
       "      <td>3506</td>\n",
       "    </tr>\n",
       "    <tr>\n",
       "      <th>36</th>\n",
       "      <td>1.0</td>\n",
       "      <td>0.0</td>\n",
       "      <td>1.0</td>\n",
       "      <td>391.9</td>\n",
       "      <td>2584.7</td>\n",
       "      <td>0</td>\n",
       "      <td>3347</td>\n",
       "    </tr>\n",
       "    <tr>\n",
       "      <th>37</th>\n",
       "      <td>0.0</td>\n",
       "      <td>0.0</td>\n",
       "      <td>0.0</td>\n",
       "      <td>556.9</td>\n",
       "      <td>3.9</td>\n",
       "      <td>20</td>\n",
       "      <td>40</td>\n",
       "    </tr>\n",
       "    <tr>\n",
       "      <th>38</th>\n",
       "      <td>0.0</td>\n",
       "      <td>0.0</td>\n",
       "      <td>0.0</td>\n",
       "      <td>602.6</td>\n",
       "      <td>2.0</td>\n",
       "      <td>19</td>\n",
       "      <td>635</td>\n",
       "    </tr>\n",
       "    <tr>\n",
       "      <th>39</th>\n",
       "      <td>0.0</td>\n",
       "      <td>0.0</td>\n",
       "      <td>0.0</td>\n",
       "      <td>578.6</td>\n",
       "      <td>1.9</td>\n",
       "      <td>18</td>\n",
       "      <td>583</td>\n",
       "    </tr>\n",
       "    <tr>\n",
       "      <th>40</th>\n",
       "      <td>0.0</td>\n",
       "      <td>0.0</td>\n",
       "      <td>0.0</td>\n",
       "      <td>598.3</td>\n",
       "      <td>2.8</td>\n",
       "      <td>17</td>\n",
       "      <td>597</td>\n",
       "    </tr>\n",
       "    <tr>\n",
       "      <th>41</th>\n",
       "      <td>0.0</td>\n",
       "      <td>0.0</td>\n",
       "      <td>0.0</td>\n",
       "      <td>493.0</td>\n",
       "      <td>3.1</td>\n",
       "      <td>16</td>\n",
       "      <td>580</td>\n",
       "    </tr>\n",
       "    <tr>\n",
       "      <th>42</th>\n",
       "      <td>0.0</td>\n",
       "      <td>0.0</td>\n",
       "      <td>0.0</td>\n",
       "      <td>426.7</td>\n",
       "      <td>1.9</td>\n",
       "      <td>15</td>\n",
       "      <td>0</td>\n",
       "    </tr>\n",
       "    <tr>\n",
       "      <th>43</th>\n",
       "      <td>0.0</td>\n",
       "      <td>0.0</td>\n",
       "      <td>0.0</td>\n",
       "      <td>546.9</td>\n",
       "      <td>1.2</td>\n",
       "      <td>14</td>\n",
       "      <td>0</td>\n",
       "    </tr>\n",
       "    <tr>\n",
       "      <th>44</th>\n",
       "      <td>0.0</td>\n",
       "      <td>0.0</td>\n",
       "      <td>0.0</td>\n",
       "      <td>472.1</td>\n",
       "      <td>4.9</td>\n",
       "      <td>10</td>\n",
       "      <td>1495</td>\n",
       "    </tr>\n",
       "    <tr>\n",
       "      <th>45</th>\n",
       "      <td>0.0</td>\n",
       "      <td>0.0</td>\n",
       "      <td>0.0</td>\n",
       "      <td>384.9</td>\n",
       "      <td>4.9</td>\n",
       "      <td>9</td>\n",
       "      <td>1055</td>\n",
       "    </tr>\n",
       "    <tr>\n",
       "      <th>46</th>\n",
       "      <td>0.0</td>\n",
       "      <td>0.0</td>\n",
       "      <td>0.0</td>\n",
       "      <td>529.2</td>\n",
       "      <td>3.5</td>\n",
       "      <td>8</td>\n",
       "      <td>950</td>\n",
       "    </tr>\n",
       "    <tr>\n",
       "      <th>47</th>\n",
       "      <td>0.0</td>\n",
       "      <td>0.0</td>\n",
       "      <td>0.0</td>\n",
       "      <td>438.0</td>\n",
       "      <td>4.2</td>\n",
       "      <td>7</td>\n",
       "      <td>977</td>\n",
       "    </tr>\n",
       "    <tr>\n",
       "      <th>48</th>\n",
       "      <td>0.0</td>\n",
       "      <td>0.0</td>\n",
       "      <td>0.0</td>\n",
       "      <td>418.3</td>\n",
       "      <td>5.2</td>\n",
       "      <td>6</td>\n",
       "      <td>1045</td>\n",
       "    </tr>\n",
       "    <tr>\n",
       "      <th>49</th>\n",
       "      <td>0.0</td>\n",
       "      <td>0.0</td>\n",
       "      <td>0.0</td>\n",
       "      <td>565.9</td>\n",
       "      <td>5.6</td>\n",
       "      <td>5</td>\n",
       "      <td>978</td>\n",
       "    </tr>\n",
       "    <tr>\n",
       "      <th>50</th>\n",
       "      <td>0.0</td>\n",
       "      <td>0.0</td>\n",
       "      <td>0.0</td>\n",
       "      <td>375.2</td>\n",
       "      <td>7.2</td>\n",
       "      <td>4</td>\n",
       "      <td>993</td>\n",
       "    </tr>\n",
       "    <tr>\n",
       "      <th>51</th>\n",
       "      <td>0.0</td>\n",
       "      <td>0.0</td>\n",
       "      <td>0.0</td>\n",
       "      <td>459.5</td>\n",
       "      <td>6.1</td>\n",
       "      <td>3</td>\n",
       "      <td>810</td>\n",
       "    </tr>\n",
       "    <tr>\n",
       "      <th>52</th>\n",
       "      <td>0.0</td>\n",
       "      <td>0.0</td>\n",
       "      <td>0.0</td>\n",
       "      <td>314.5</td>\n",
       "      <td>7.6</td>\n",
       "      <td>2</td>\n",
       "      <td>929</td>\n",
       "    </tr>\n",
       "    <tr>\n",
       "      <th>53</th>\n",
       "      <td>0.0</td>\n",
       "      <td>0.0</td>\n",
       "      <td>0.0</td>\n",
       "      <td>662.8</td>\n",
       "      <td>5.4</td>\n",
       "      <td>1</td>\n",
       "      <td>893</td>\n",
       "    </tr>\n",
       "    <tr>\n",
       "      <th>54</th>\n",
       "      <td>0.0</td>\n",
       "      <td>0.0</td>\n",
       "      <td>0.0</td>\n",
       "      <td>391.9</td>\n",
       "      <td>4.6</td>\n",
       "      <td>0</td>\n",
       "      <td>703</td>\n",
       "    </tr>\n",
       "  </tbody>\n",
       "</table>\n",
       "</div>"
      ],
      "text/plain": [
       "    Crop_Type_Rice  Crop_Type_Wheat  Soil_Type_alluvial  Rainfall  \\\n",
       "0              0.0              1.0                 0.0     578.6   \n",
       "1              0.0              1.0                 0.0     598.3   \n",
       "2              0.0              1.0                 0.0     493.0   \n",
       "3              0.0              1.0                 0.0     426.7   \n",
       "4              0.0              1.0                 0.0     546.9   \n",
       "5              0.0              1.0                 0.0     384.9   \n",
       "6              0.0              1.0                 0.0     619.7   \n",
       "7              0.0              1.0                 0.0     218.9   \n",
       "8              0.0              1.0                 0.0     472.1   \n",
       "9              0.0              1.0                 0.0     384.9   \n",
       "10             0.0              1.0                 0.0     529.2   \n",
       "11             0.0              1.0                 0.0     438.0   \n",
       "12             0.0              1.0                 0.0     418.3   \n",
       "13             0.0              1.0                 0.0     565.9   \n",
       "14             0.0              1.0                 0.0     375.2   \n",
       "15             0.0              1.0                 0.0     459.5   \n",
       "16             0.0              1.0                 0.0     314.5   \n",
       "17             0.0              1.0                 0.0     662.8   \n",
       "18             0.0              1.0                 0.0     391.9   \n",
       "19             1.0              0.0                 1.0     556.9   \n",
       "20             1.0              0.0                 1.0     602.6   \n",
       "21             1.0              0.0                 1.0     426.7   \n",
       "22             1.0              0.0                 1.0     546.9   \n",
       "23             1.0              0.0                 1.0     384.9   \n",
       "24             1.0              0.0                 1.0     619.7   \n",
       "25             1.0              0.0                 1.0     218.9   \n",
       "26             1.0              0.0                 1.0     472.1   \n",
       "27             1.0              0.0                 1.0     384.9   \n",
       "28             1.0              0.0                 1.0     529.2   \n",
       "29             1.0              0.0                 1.0     438.0   \n",
       "30             1.0              0.0                 1.0     418.3   \n",
       "31             1.0              0.0                 1.0     565.9   \n",
       "32             1.0              0.0                 1.0     375.2   \n",
       "33             1.0              0.0                 1.0     459.5   \n",
       "34             1.0              0.0                 1.0     314.5   \n",
       "35             1.0              0.0                 1.0     662.8   \n",
       "36             1.0              0.0                 1.0     391.9   \n",
       "37             0.0              0.0                 0.0     556.9   \n",
       "38             0.0              0.0                 0.0     602.6   \n",
       "39             0.0              0.0                 0.0     578.6   \n",
       "40             0.0              0.0                 0.0     598.3   \n",
       "41             0.0              0.0                 0.0     493.0   \n",
       "42             0.0              0.0                 0.0     426.7   \n",
       "43             0.0              0.0                 0.0     546.9   \n",
       "44             0.0              0.0                 0.0     472.1   \n",
       "45             0.0              0.0                 0.0     384.9   \n",
       "46             0.0              0.0                 0.0     529.2   \n",
       "47             0.0              0.0                 0.0     438.0   \n",
       "48             0.0              0.0                 0.0     418.3   \n",
       "49             0.0              0.0                 0.0     565.9   \n",
       "50             0.0              0.0                 0.0     375.2   \n",
       "51             0.0              0.0                 0.0     459.5   \n",
       "52             0.0              0.0                 0.0     314.5   \n",
       "53             0.0              0.0                 0.0     662.8   \n",
       "54             0.0              0.0                 0.0     391.9   \n",
       "\n",
       "    Irrigation_Area  Year_Encoded    cy  \n",
       "0            3515.2            18  5188  \n",
       "1            3499.3            17  5077  \n",
       "2            3467.7            16  5046  \n",
       "3            3474.6            15  4583  \n",
       "4            3474.7            14  4304  \n",
       "5            3474.7            13  5017  \n",
       "6            3488.1            12  4724  \n",
       "7            3466.9            11  4693  \n",
       "8            3474.8            10  4307  \n",
       "9            3474.8             9  4462  \n",
       "10           3437.9             8  4507  \n",
       "11           3406.9             7  4210  \n",
       "12           3404.8             6  4179  \n",
       "13           3410.5             5  4221  \n",
       "14           3381.7             4  4207  \n",
       "15           3311.6             3  4200  \n",
       "16           3353.5             2  4532  \n",
       "17           3333.6             1  4563  \n",
       "18           3284.3             0  4696  \n",
       "19           3229.5            20  4443  \n",
       "20           3118.8            19  4034  \n",
       "21           2961.4            15  3974  \n",
       "22           2838.3            14  3838  \n",
       "23           2838.3            13  3952  \n",
       "24           2837.6            12  3998  \n",
       "25           2814.2            11  3828  \n",
       "26           2721.8            10  4010  \n",
       "27           2721.8             9  4022  \n",
       "28           2592.2             8  4019  \n",
       "29           2602.4             7  3868  \n",
       "30           2639.9             6  3858  \n",
       "31           2632.3             5  3943  \n",
       "32           2599.6             4  3694  \n",
       "33           2515.7             3  3510  \n",
       "34           2471.0             2  3545  \n",
       "35           2590.3             1  3506  \n",
       "36           2584.7             0  3347  \n",
       "37              3.9            20    40  \n",
       "38              2.0            19   635  \n",
       "39              1.9            18   583  \n",
       "40              2.8            17   597  \n",
       "41              3.1            16   580  \n",
       "42              1.9            15     0  \n",
       "43              1.2            14     0  \n",
       "44              4.9            10  1495  \n",
       "45              4.9             9  1055  \n",
       "46              3.5             8   950  \n",
       "47              4.2             7   977  \n",
       "48              5.2             6  1045  \n",
       "49              5.6             5   978  \n",
       "50              7.2             4   993  \n",
       "51              6.1             3   810  \n",
       "52              7.6             2   929  \n",
       "53              5.4             1   893  \n",
       "54              4.6             0   703  "
      ]
     },
     "execution_count": 13,
     "metadata": {},
     "output_type": "execute_result"
    }
   ],
   "source": [
    "df_transformed"
   ]
  },
  {
   "cell_type": "code",
   "execution_count": 14,
   "id": "10468423",
   "metadata": {
    "execution": {
     "iopub.execute_input": "2024-12-24T02:46:08.213891Z",
     "iopub.status.busy": "2024-12-24T02:46:08.213409Z",
     "iopub.status.idle": "2024-12-24T02:46:08.222032Z",
     "shell.execute_reply": "2024-12-24T02:46:08.220759Z"
    },
    "papermill": {
     "duration": 0.022971,
     "end_time": "2024-12-24T02:46:08.224426",
     "exception": false,
     "start_time": "2024-12-24T02:46:08.201455",
     "status": "completed"
    },
    "tags": []
   },
   "outputs": [
    {
     "data": {
      "text/plain": [
       "423.125"
      ]
     },
     "execution_count": 14,
     "metadata": {},
     "output_type": "execute_result"
    }
   ],
   "source": [
    "df_transformed[df_transformed['Irrigation_Area']<4]['cy'].mean()"
   ]
  },
  {
   "cell_type": "code",
   "execution_count": 15,
   "id": "2ce1c3ec",
   "metadata": {
    "execution": {
     "iopub.execute_input": "2024-12-24T02:46:08.247275Z",
     "iopub.status.busy": "2024-12-24T02:46:08.246866Z",
     "iopub.status.idle": "2024-12-24T02:46:08.256752Z",
     "shell.execute_reply": "2024-12-24T02:46:08.254934Z"
    },
    "papermill": {
     "duration": 0.024068,
     "end_time": "2024-12-24T02:46:08.259159",
     "exception": false,
     "start_time": "2024-12-24T02:46:08.235091",
     "status": "completed"
    },
    "tags": []
   },
   "outputs": [
    {
     "name": "stderr",
     "output_type": "stream",
     "text": [
      "/tmp/ipykernel_17/3857029799.py:1: FutureWarning: Setting an item of incompatible dtype is deprecated and will raise an error in a future version of pandas. Value '423.125' has dtype incompatible with int64, please explicitly cast to a compatible dtype first.\n",
      "  df_transformed.loc[42,'cy']=df_transformed[df_transformed['Irrigation_Area']<4]['cy'].mean()\n"
     ]
    }
   ],
   "source": [
    "df_transformed.loc[42,'cy']=df_transformed[df_transformed['Irrigation_Area']<4]['cy'].mean()\n",
    "df_transformed.loc[43,'cy']=df_transformed[df_transformed['Irrigation_Area']<4]['cy'].mean()"
   ]
  },
  {
   "cell_type": "markdown",
   "id": "8ab4f3dd",
   "metadata": {
    "papermill": {
     "duration": 0.010808,
     "end_time": "2024-12-24T02:46:08.281323",
     "exception": false,
     "start_time": "2024-12-24T02:46:08.270515",
     "status": "completed"
    },
    "tags": []
   },
   "source": [
    "## Apply Transformations"
   ]
  },
  {
   "cell_type": "code",
   "execution_count": 16,
   "id": "b8cace8b",
   "metadata": {
    "execution": {
     "iopub.execute_input": "2024-12-24T02:46:08.314809Z",
     "iopub.status.busy": "2024-12-24T02:46:08.314288Z",
     "iopub.status.idle": "2024-12-24T02:46:10.222403Z",
     "shell.execute_reply": "2024-12-24T02:46:10.221145Z"
    },
    "papermill": {
     "duration": 1.923561,
     "end_time": "2024-12-24T02:46:10.225076",
     "exception": false,
     "start_time": "2024-12-24T02:46:08.301515",
     "status": "completed"
    },
    "tags": []
   },
   "outputs": [],
   "source": [
    "import scipy.stats as stats\n",
    "import statsmodels.api as sm\n",
    "import matplotlib.pyplot as plt\n",
    "import pylab\n",
    "def plot_data(feature):\n",
    "    print(df_transformed['cy'].corr(feature))\n",
    "    plt.figure(figsize=(10,5))\n",
    "    plt.subplot(1,2,1)\n",
    "    feature.hist()\n",
    "    plt.subplot(1,2,2)\n",
    "    stats.probplot(feature,dist='norm',plot=pylab)\n",
    "    plt.show"
   ]
  },
  {
   "cell_type": "code",
   "execution_count": 17,
   "id": "30a92e1e",
   "metadata": {
    "execution": {
     "iopub.execute_input": "2024-12-24T02:46:10.249346Z",
     "iopub.status.busy": "2024-12-24T02:46:10.248772Z",
     "iopub.status.idle": "2024-12-24T02:46:10.254330Z",
     "shell.execute_reply": "2024-12-24T02:46:10.253158Z"
    },
    "papermill": {
     "duration": 0.020426,
     "end_time": "2024-12-24T02:46:10.256650",
     "exception": false,
     "start_time": "2024-12-24T02:46:10.236224",
     "status": "completed"
    },
    "tags": []
   },
   "outputs": [],
   "source": [
    "# plot_data(df_transformed['Rainfall'])"
   ]
  },
  {
   "cell_type": "code",
   "execution_count": 18,
   "id": "7c8609bc",
   "metadata": {
    "execution": {
     "iopub.execute_input": "2024-12-24T02:46:10.280551Z",
     "iopub.status.busy": "2024-12-24T02:46:10.280136Z",
     "iopub.status.idle": "2024-12-24T02:46:10.285210Z",
     "shell.execute_reply": "2024-12-24T02:46:10.284010Z"
    },
    "papermill": {
     "duration": 0.020398,
     "end_time": "2024-12-24T02:46:10.287802",
     "exception": false,
     "start_time": "2024-12-24T02:46:10.267404",
     "status": "completed"
    },
    "tags": []
   },
   "outputs": [],
   "source": [
    "# log_trans = np.log(df_transformed['Rainfall'])\n",
    "# plot_data(log_trans)"
   ]
  },
  {
   "cell_type": "code",
   "execution_count": 19,
   "id": "4db539ab",
   "metadata": {
    "execution": {
     "iopub.execute_input": "2024-12-24T02:46:10.311362Z",
     "iopub.status.busy": "2024-12-24T02:46:10.310967Z",
     "iopub.status.idle": "2024-12-24T02:46:10.316031Z",
     "shell.execute_reply": "2024-12-24T02:46:10.314559Z"
    },
    "papermill": {
     "duration": 0.019935,
     "end_time": "2024-12-24T02:46:10.318497",
     "exception": false,
     "start_time": "2024-12-24T02:46:10.298562",
     "status": "completed"
    },
    "tags": []
   },
   "outputs": [],
   "source": [
    "# rec_trans = 1/df_transformed['Rainfall']\n",
    "# plot_data(rec_trans)"
   ]
  },
  {
   "cell_type": "code",
   "execution_count": 20,
   "id": "aca682bb",
   "metadata": {
    "execution": {
     "iopub.execute_input": "2024-12-24T02:46:10.341420Z",
     "iopub.status.busy": "2024-12-24T02:46:10.341020Z",
     "iopub.status.idle": "2024-12-24T02:46:10.345923Z",
     "shell.execute_reply": "2024-12-24T02:46:10.344669Z"
    },
    "papermill": {
     "duration": 0.019259,
     "end_time": "2024-12-24T02:46:10.348339",
     "exception": false,
     "start_time": "2024-12-24T02:46:10.329080",
     "status": "completed"
    },
    "tags": []
   },
   "outputs": [],
   "source": [
    "# rec_trans = np.exp(-df_transformed['Rainfall'])\n",
    "# plot_data(rec_trans)"
   ]
  },
  {
   "cell_type": "markdown",
   "id": "ab9bcec7",
   "metadata": {
    "papermill": {
     "duration": 0.010472,
     "end_time": "2024-12-24T02:46:10.369828",
     "exception": false,
     "start_time": "2024-12-24T02:46:10.359356",
     "status": "completed"
    },
    "tags": []
   },
   "source": [
    "## Visualize"
   ]
  },
  {
   "cell_type": "code",
   "execution_count": 21,
   "id": "83e10b20",
   "metadata": {
    "execution": {
     "iopub.execute_input": "2024-12-24T02:46:10.393025Z",
     "iopub.status.busy": "2024-12-24T02:46:10.392599Z",
     "iopub.status.idle": "2024-12-24T02:46:10.409664Z",
     "shell.execute_reply": "2024-12-24T02:46:10.408557Z"
    },
    "papermill": {
     "duration": 0.03142,
     "end_time": "2024-12-24T02:46:10.411917",
     "exception": false,
     "start_time": "2024-12-24T02:46:10.380497",
     "status": "completed"
    },
    "tags": []
   },
   "outputs": [
    {
     "data": {
      "text/html": [
       "<div>\n",
       "<style scoped>\n",
       "    .dataframe tbody tr th:only-of-type {\n",
       "        vertical-align: middle;\n",
       "    }\n",
       "\n",
       "    .dataframe tbody tr th {\n",
       "        vertical-align: top;\n",
       "    }\n",
       "\n",
       "    .dataframe thead th {\n",
       "        text-align: right;\n",
       "    }\n",
       "</style>\n",
       "<table border=\"1\" class=\"dataframe\">\n",
       "  <thead>\n",
       "    <tr style=\"text-align: right;\">\n",
       "      <th></th>\n",
       "      <th>Crop_Type_Rice</th>\n",
       "      <th>Crop_Type_Wheat</th>\n",
       "      <th>Soil_Type_alluvial</th>\n",
       "      <th>Rainfall</th>\n",
       "      <th>Irrigation_Area</th>\n",
       "      <th>Year_Encoded</th>\n",
       "      <th>cy</th>\n",
       "    </tr>\n",
       "  </thead>\n",
       "  <tbody>\n",
       "    <tr>\n",
       "      <th>Crop_Type_Rice</th>\n",
       "      <td>1.000000</td>\n",
       "      <td>-0.506712</td>\n",
       "      <td>1.000000</td>\n",
       "      <td>-0.058922</td>\n",
       "      <td>0.309413</td>\n",
       "      <td>-0.038916</td>\n",
       "      <td>0.318386</td>\n",
       "    </tr>\n",
       "    <tr>\n",
       "      <th>Crop_Type_Wheat</th>\n",
       "      <td>-0.506712</td>\n",
       "      <td>1.000000</td>\n",
       "      <td>-0.506712</td>\n",
       "      <td>-0.044952</td>\n",
       "      <td>0.660013</td>\n",
       "      <td>-0.020081</td>\n",
       "      <td>0.641352</td>\n",
       "    </tr>\n",
       "    <tr>\n",
       "      <th>Soil_Type_alluvial</th>\n",
       "      <td>1.000000</td>\n",
       "      <td>-0.506712</td>\n",
       "      <td>1.000000</td>\n",
       "      <td>-0.058922</td>\n",
       "      <td>0.309413</td>\n",
       "      <td>-0.038916</td>\n",
       "      <td>0.318386</td>\n",
       "    </tr>\n",
       "    <tr>\n",
       "      <th>Rainfall</th>\n",
       "      <td>-0.058922</td>\n",
       "      <td>-0.044952</td>\n",
       "      <td>-0.058922</td>\n",
       "      <td>1.000000</td>\n",
       "      <td>-0.085025</td>\n",
       "      <td>0.294149</td>\n",
       "      <td>-0.092167</td>\n",
       "    </tr>\n",
       "    <tr>\n",
       "      <th>Irrigation_Area</th>\n",
       "      <td>0.309413</td>\n",
       "      <td>0.660013</td>\n",
       "      <td>0.309413</td>\n",
       "      <td>-0.085025</td>\n",
       "      <td>1.000000</td>\n",
       "      <td>-0.002644</td>\n",
       "      <td>0.986994</td>\n",
       "    </tr>\n",
       "    <tr>\n",
       "      <th>Year_Encoded</th>\n",
       "      <td>-0.038916</td>\n",
       "      <td>-0.020081</td>\n",
       "      <td>-0.038916</td>\n",
       "      <td>0.294149</td>\n",
       "      <td>-0.002644</td>\n",
       "      <td>1.000000</td>\n",
       "      <td>-0.017952</td>\n",
       "    </tr>\n",
       "    <tr>\n",
       "      <th>cy</th>\n",
       "      <td>0.318386</td>\n",
       "      <td>0.641352</td>\n",
       "      <td>0.318386</td>\n",
       "      <td>-0.092167</td>\n",
       "      <td>0.986994</td>\n",
       "      <td>-0.017952</td>\n",
       "      <td>1.000000</td>\n",
       "    </tr>\n",
       "  </tbody>\n",
       "</table>\n",
       "</div>"
      ],
      "text/plain": [
       "                    Crop_Type_Rice  Crop_Type_Wheat  Soil_Type_alluvial  \\\n",
       "Crop_Type_Rice            1.000000        -0.506712            1.000000   \n",
       "Crop_Type_Wheat          -0.506712         1.000000           -0.506712   \n",
       "Soil_Type_alluvial        1.000000        -0.506712            1.000000   \n",
       "Rainfall                 -0.058922        -0.044952           -0.058922   \n",
       "Irrigation_Area           0.309413         0.660013            0.309413   \n",
       "Year_Encoded             -0.038916        -0.020081           -0.038916   \n",
       "cy                        0.318386         0.641352            0.318386   \n",
       "\n",
       "                    Rainfall  Irrigation_Area  Year_Encoded        cy  \n",
       "Crop_Type_Rice     -0.058922         0.309413     -0.038916  0.318386  \n",
       "Crop_Type_Wheat    -0.044952         0.660013     -0.020081  0.641352  \n",
       "Soil_Type_alluvial -0.058922         0.309413     -0.038916  0.318386  \n",
       "Rainfall            1.000000        -0.085025      0.294149 -0.092167  \n",
       "Irrigation_Area    -0.085025         1.000000     -0.002644  0.986994  \n",
       "Year_Encoded        0.294149        -0.002644      1.000000 -0.017952  \n",
       "cy                 -0.092167         0.986994     -0.017952  1.000000  "
      ]
     },
     "execution_count": 21,
     "metadata": {},
     "output_type": "execute_result"
    }
   ],
   "source": [
    "df_transformed.corr()"
   ]
  },
  {
   "cell_type": "markdown",
   "id": "ef9cd2e7",
   "metadata": {
    "papermill": {
     "duration": 0.01142,
     "end_time": "2024-12-24T02:46:10.435007",
     "exception": false,
     "start_time": "2024-12-24T02:46:10.423587",
     "status": "completed"
    },
    "tags": []
   },
   "source": [
    "## Model Building"
   ]
  },
  {
   "cell_type": "markdown",
   "id": "49483e54",
   "metadata": {
    "papermill": {
     "duration": 0.011089,
     "end_time": "2024-12-24T02:46:10.457576",
     "exception": false,
     "start_time": "2024-12-24T02:46:10.446487",
     "status": "completed"
    },
    "tags": []
   },
   "source": [
    "## Train Test split"
   ]
  },
  {
   "cell_type": "code",
   "execution_count": 22,
   "id": "9e50199a",
   "metadata": {
    "execution": {
     "iopub.execute_input": "2024-12-24T02:46:10.481132Z",
     "iopub.status.busy": "2024-12-24T02:46:10.480703Z",
     "iopub.status.idle": "2024-12-24T02:46:10.487635Z",
     "shell.execute_reply": "2024-12-24T02:46:10.486262Z"
    },
    "papermill": {
     "duration": 0.021452,
     "end_time": "2024-12-24T02:46:10.489976",
     "exception": false,
     "start_time": "2024-12-24T02:46:10.468524",
     "status": "completed"
    },
    "tags": []
   },
   "outputs": [],
   "source": [
    "X_final=df_transformed.drop(columns=['cy'])\n",
    "y=df_transformed['cy']"
   ]
  },
  {
   "cell_type": "code",
   "execution_count": 23,
   "id": "9727b344",
   "metadata": {
    "execution": {
     "iopub.execute_input": "2024-12-24T02:46:10.514166Z",
     "iopub.status.busy": "2024-12-24T02:46:10.513762Z",
     "iopub.status.idle": "2024-12-24T02:46:10.523616Z",
     "shell.execute_reply": "2024-12-24T02:46:10.522485Z"
    },
    "papermill": {
     "duration": 0.024776,
     "end_time": "2024-12-24T02:46:10.525815",
     "exception": false,
     "start_time": "2024-12-24T02:46:10.501039",
     "status": "completed"
    },
    "tags": []
   },
   "outputs": [],
   "source": [
    "X_train,X_test,y_train,y_test = train_test_split(X_final,y,test_size=0.1,random_state=50)"
   ]
  },
  {
   "cell_type": "markdown",
   "id": "5f383e46",
   "metadata": {
    "papermill": {
     "duration": 0.010361,
     "end_time": "2024-12-24T02:46:10.547443",
     "exception": false,
     "start_time": "2024-12-24T02:46:10.537082",
     "status": "completed"
    },
    "tags": []
   },
   "source": [
    "## Model Testing Function"
   ]
  },
  {
   "cell_type": "code",
   "execution_count": 24,
   "id": "0ce16cca",
   "metadata": {
    "execution": {
     "iopub.execute_input": "2024-12-24T02:46:10.570854Z",
     "iopub.status.busy": "2024-12-24T02:46:10.570394Z",
     "iopub.status.idle": "2024-12-24T02:46:10.577290Z",
     "shell.execute_reply": "2024-12-24T02:46:10.576117Z"
    },
    "papermill": {
     "duration": 0.021361,
     "end_time": "2024-12-24T02:46:10.579514",
     "exception": false,
     "start_time": "2024-12-24T02:46:10.558153",
     "status": "completed"
    },
    "tags": []
   },
   "outputs": [],
   "source": [
    "def test_model(model):\n",
    "    # Predict and Evaluate\n",
    "    y_pred = model.predict(X_test)\n",
    "    # Metrics\n",
    "    mse = mean_squared_error(y_test, y_pred)\n",
    "    mae = mean_absolute_error(y_test, y_pred)\n",
    "    r2 = r2_score(y_test, y_pred)\n",
    "    \n",
    "    # Print Results\n",
    "    print(\"Mean Squared Error (MSE):\", mse)\n",
    "    print(\"Mean Absolute Error (MAE):\", mae)\n",
    "    print(\"R² Score:\", r2)"
   ]
  },
  {
   "cell_type": "markdown",
   "id": "b287d7a2",
   "metadata": {
    "papermill": {
     "duration": 0.011007,
     "end_time": "2024-12-24T02:46:10.601260",
     "exception": false,
     "start_time": "2024-12-24T02:46:10.590253",
     "status": "completed"
    },
    "tags": []
   },
   "source": [
    "## Random Forest Regressor"
   ]
  },
  {
   "cell_type": "code",
   "execution_count": 25,
   "id": "2983c101",
   "metadata": {
    "execution": {
     "iopub.execute_input": "2024-12-24T02:46:10.626235Z",
     "iopub.status.busy": "2024-12-24T02:46:10.624636Z",
     "iopub.status.idle": "2024-12-24T02:46:10.884799Z",
     "shell.execute_reply": "2024-12-24T02:46:10.883201Z"
    },
    "papermill": {
     "duration": 0.275177,
     "end_time": "2024-12-24T02:46:10.887275",
     "exception": false,
     "start_time": "2024-12-24T02:46:10.612098",
     "status": "completed"
    },
    "tags": []
   },
   "outputs": [
    {
     "name": "stdout",
     "output_type": "stream",
     "text": [
      "Mean Squared Error (MSE): 12685.561099267674\n",
      "Mean Absolute Error (MAE): 105.16293637387382\n",
      "R² Score: 0.9967487413651405\n"
     ]
    }
   ],
   "source": [
    "from sklearn.ensemble import RandomForestRegressor\n",
    "\n",
    "# Train Random Forest Model\n",
    "rf_model = RandomForestRegressor(n_estimators=37,max_depth=7,random_state=2)\n",
    "rf_model.fit(X_train, y_train)\n",
    "\n",
    "# Test the model\n",
    "test_model(rf_model)"
   ]
  },
  {
   "cell_type": "markdown",
   "id": "91362b1b",
   "metadata": {
    "papermill": {
     "duration": 0.010941,
     "end_time": "2024-12-24T02:46:10.910157",
     "exception": false,
     "start_time": "2024-12-24T02:46:10.899216",
     "status": "completed"
    },
    "tags": []
   },
   "source": [
    "## Gradient Boosting"
   ]
  },
  {
   "cell_type": "code",
   "execution_count": 26,
   "id": "294cf103",
   "metadata": {
    "execution": {
     "iopub.execute_input": "2024-12-24T02:46:10.933691Z",
     "iopub.status.busy": "2024-12-24T02:46:10.933278Z",
     "iopub.status.idle": "2024-12-24T02:46:11.080023Z",
     "shell.execute_reply": "2024-12-24T02:46:11.078694Z"
    },
    "papermill": {
     "duration": 0.161606,
     "end_time": "2024-12-24T02:46:11.082596",
     "exception": false,
     "start_time": "2024-12-24T02:46:10.920990",
     "status": "completed"
    },
    "tags": []
   },
   "outputs": [
    {
     "name": "stdout",
     "output_type": "stream",
     "text": [
      "Mean Squared Error (MSE): 21825.52277226302\n",
      "Mean Absolute Error (MAE): 123.24567481604883\n",
      "R² Score: 0.9944062056996643\n"
     ]
    }
   ],
   "source": [
    "from sklearn.ensemble import GradientBoostingRegressor\n",
    "\n",
    "# Train Gradient Boosting Model\n",
    "gb_model = GradientBoostingRegressor(n_estimators=300,\n",
    "                                     learning_rate=0.2,\n",
    "                                     max_depth=4,\n",
    "                                     min_samples_split=3, \n",
    "                                     min_samples_leaf=4)\n",
    "gb_model.fit(X_train, y_train)\n",
    "\n",
    "# Test the model\n",
    "test_model(gb_model)"
   ]
  },
  {
   "cell_type": "markdown",
   "id": "b5412ed9",
   "metadata": {
    "papermill": {
     "duration": 0.011279,
     "end_time": "2024-12-24T02:46:11.105362",
     "exception": false,
     "start_time": "2024-12-24T02:46:11.094083",
     "status": "completed"
    },
    "tags": []
   },
   "source": [
    "## Extra Trees Regressor"
   ]
  },
  {
   "cell_type": "code",
   "execution_count": 27,
   "id": "56efdda2",
   "metadata": {
    "execution": {
     "iopub.execute_input": "2024-12-24T02:46:11.130509Z",
     "iopub.status.busy": "2024-12-24T02:46:11.130114Z",
     "iopub.status.idle": "2024-12-24T02:46:11.173939Z",
     "shell.execute_reply": "2024-12-24T02:46:11.171979Z"
    },
    "papermill": {
     "duration": 0.060176,
     "end_time": "2024-12-24T02:46:11.176790",
     "exception": false,
     "start_time": "2024-12-24T02:46:11.116614",
     "status": "completed"
    },
    "tags": []
   },
   "outputs": [
    {
     "name": "stdout",
     "output_type": "stream",
     "text": [
      "Mean Squared Error (MSE): 13428.109916268813\n",
      "Mean Absolute Error (MAE): 101.40156250000003\n",
      "R² Score: 0.9965584290695954\n"
     ]
    }
   ],
   "source": [
    "from sklearn.ensemble import ExtraTreesRegressor\n",
    "\n",
    "# Create an ExtraTreesRegressor with default parameters\n",
    "et_model = ExtraTreesRegressor(n_estimators=30,random_state=53)\n",
    "\n",
    "# Train the model\n",
    "et_model.fit(X_train, y_train)\n",
    "\n",
    "test_model(et_model)"
   ]
  },
  {
   "cell_type": "markdown",
   "id": "fa9cffe5",
   "metadata": {
    "papermill": {
     "duration": 0.011107,
     "end_time": "2024-12-24T02:46:11.199926",
     "exception": false,
     "start_time": "2024-12-24T02:46:11.188819",
     "status": "completed"
    },
    "tags": []
   },
   "source": [
    "## HP Tuning"
   ]
  },
  {
   "cell_type": "code",
   "execution_count": 28,
   "id": "ae6e898b",
   "metadata": {
    "execution": {
     "iopub.execute_input": "2024-12-24T02:46:11.225419Z",
     "iopub.status.busy": "2024-12-24T02:46:11.224967Z",
     "iopub.status.idle": "2024-12-24T02:46:11.230679Z",
     "shell.execute_reply": "2024-12-24T02:46:11.229457Z"
    },
    "papermill": {
     "duration": 0.022422,
     "end_time": "2024-12-24T02:46:11.233280",
     "exception": false,
     "start_time": "2024-12-24T02:46:11.210858",
     "status": "completed"
    },
    "tags": []
   },
   "outputs": [],
   "source": [
    "# losses=[]\n",
    "# for i in range(1,60):\n",
    "#     et_model = ExtraTreesRegressor(n_estimators=30,random_state=i)\n",
    "#     et_model.fit(X_train, y_train)\n",
    "#     y_pred = et_model.predict(X_test)\n",
    "#     mse = mean_squared_error(y_test, y_pred)\n",
    "#     losses.append(mse)\n",
    "# print(losses.index(min(losses)),min(losses))"
   ]
  },
  {
   "cell_type": "code",
   "execution_count": 29,
   "id": "85e512c4",
   "metadata": {
    "execution": {
     "iopub.execute_input": "2024-12-24T02:46:11.257352Z",
     "iopub.status.busy": "2024-12-24T02:46:11.256966Z",
     "iopub.status.idle": "2024-12-24T02:46:11.272703Z",
     "shell.execute_reply": "2024-12-24T02:46:11.271475Z"
    },
    "papermill": {
     "duration": 0.030704,
     "end_time": "2024-12-24T02:46:11.275153",
     "exception": false,
     "start_time": "2024-12-24T02:46:11.244449",
     "status": "completed"
    },
    "tags": []
   },
   "outputs": [
    {
     "name": "stdout",
     "output_type": "stream",
     "text": [
      "Mean Squared Error (MSE): 18034.1449644955\n",
      "Mean Absolute Error (MAE): 108.2313554896674\n",
      "R² Score: 0.9953779206864165\n"
     ]
    }
   ],
   "source": [
    "def ensemble_model():\n",
    "    # Predict and Evaluate\n",
    "    y1 = gb_model.predict(X_test)\n",
    "    y2 = et_model.predict(X_test)\n",
    "    y_pred = ((0.8 * y1) + (0.2 * y2))\n",
    "    \n",
    "    # Metrics\n",
    "    mse = mean_squared_error(y_test, y_pred)\n",
    "    mae = mean_absolute_error(y_test, y_pred)\n",
    "    r2 = r2_score(y_test, y_pred)\n",
    "    \n",
    "    # Print Results\n",
    "    print(\"Mean Squared Error (MSE):\", mse)\n",
    "    print(\"Mean Absolute Error (MAE):\", mae)\n",
    "    print(\"R² Score:\", r2)\n",
    "\n",
    "ensemble_model()"
   ]
  },
  {
   "cell_type": "markdown",
   "id": "a946016b",
   "metadata": {
    "papermill": {
     "duration": 0.011344,
     "end_time": "2024-12-24T02:46:11.298444",
     "exception": false,
     "start_time": "2024-12-24T02:46:11.287100",
     "status": "completed"
    },
    "tags": []
   },
   "source": [
    "## Test Data"
   ]
  },
  {
   "cell_type": "code",
   "execution_count": 30,
   "id": "0cbbcfc2",
   "metadata": {
    "execution": {
     "iopub.execute_input": "2024-12-24T02:46:11.323081Z",
     "iopub.status.busy": "2024-12-24T02:46:11.322630Z",
     "iopub.status.idle": "2024-12-24T02:46:11.337950Z",
     "shell.execute_reply": "2024-12-24T02:46:11.336640Z"
    },
    "papermill": {
     "duration": 0.030312,
     "end_time": "2024-12-24T02:46:11.340582",
     "exception": false,
     "start_time": "2024-12-24T02:46:11.310270",
     "status": "completed"
    },
    "tags": []
   },
   "outputs": [],
   "source": [
    "test_df = pd.read_csv('/kaggle/input/innovative-ai-challenge-2024/test.csv')"
   ]
  },
  {
   "cell_type": "code",
   "execution_count": 31,
   "id": "9233869c",
   "metadata": {
    "execution": {
     "iopub.execute_input": "2024-12-24T02:46:11.366563Z",
     "iopub.status.busy": "2024-12-24T02:46:11.366148Z",
     "iopub.status.idle": "2024-12-24T02:46:11.373415Z",
     "shell.execute_reply": "2024-12-24T02:46:11.372379Z"
    },
    "papermill": {
     "duration": 0.02316,
     "end_time": "2024-12-24T02:46:11.375463",
     "exception": false,
     "start_time": "2024-12-24T02:46:11.352303",
     "status": "completed"
    },
    "tags": []
   },
   "outputs": [
    {
     "data": {
      "text/plain": [
       "(8, 7)"
      ]
     },
     "execution_count": 31,
     "metadata": {},
     "output_type": "execute_result"
    }
   ],
   "source": [
    "test_df.shape"
   ]
  },
  {
   "cell_type": "code",
   "execution_count": 32,
   "id": "7c3cd968",
   "metadata": {
    "execution": {
     "iopub.execute_input": "2024-12-24T02:46:11.399549Z",
     "iopub.status.busy": "2024-12-24T02:46:11.399125Z",
     "iopub.status.idle": "2024-12-24T02:46:11.414045Z",
     "shell.execute_reply": "2024-12-24T02:46:11.413065Z"
    },
    "papermill": {
     "duration": 0.029846,
     "end_time": "2024-12-24T02:46:11.416512",
     "exception": false,
     "start_time": "2024-12-24T02:46:11.386666",
     "status": "completed"
    },
    "tags": []
   },
   "outputs": [
    {
     "data": {
      "text/html": [
       "<div>\n",
       "<style scoped>\n",
       "    .dataframe tbody tr th:only-of-type {\n",
       "        vertical-align: middle;\n",
       "    }\n",
       "\n",
       "    .dataframe tbody tr th {\n",
       "        vertical-align: top;\n",
       "    }\n",
       "\n",
       "    .dataframe thead th {\n",
       "        text-align: right;\n",
       "    }\n",
       "</style>\n",
       "<table border=\"1\" class=\"dataframe\">\n",
       "  <thead>\n",
       "    <tr style=\"text-align: right;\">\n",
       "      <th></th>\n",
       "      <th>id</th>\n",
       "      <th>Year</th>\n",
       "      <th>State</th>\n",
       "      <th>Crop_Type</th>\n",
       "      <th>Rainfall</th>\n",
       "      <th>Soil_Type</th>\n",
       "      <th>Irrigation_Area</th>\n",
       "    </tr>\n",
       "  </thead>\n",
       "  <tbody>\n",
       "    <tr>\n",
       "      <th>0</th>\n",
       "      <td>1001</td>\n",
       "      <td>2021</td>\n",
       "      <td>Punjab</td>\n",
       "      <td>Wheat</td>\n",
       "      <td>556.9</td>\n",
       "      <td>Loamy</td>\n",
       "      <td>3500.70</td>\n",
       "    </tr>\n",
       "    <tr>\n",
       "      <th>1</th>\n",
       "      <td>1002</td>\n",
       "      <td>2020</td>\n",
       "      <td>Punjab</td>\n",
       "      <td>Wheat</td>\n",
       "      <td>602.6</td>\n",
       "      <td>Loamy</td>\n",
       "      <td>3509.50</td>\n",
       "    </tr>\n",
       "    <tr>\n",
       "      <th>2</th>\n",
       "      <td>1003</td>\n",
       "      <td>2019</td>\n",
       "      <td>Punjab</td>\n",
       "      <td>Rice</td>\n",
       "      <td>578.6</td>\n",
       "      <td>alluvial</td>\n",
       "      <td>3091.80</td>\n",
       "    </tr>\n",
       "    <tr>\n",
       "      <th>3</th>\n",
       "      <td>1004</td>\n",
       "      <td>2018</td>\n",
       "      <td>Punjab</td>\n",
       "      <td>Rice</td>\n",
       "      <td>598.3</td>\n",
       "      <td>alluvial</td>\n",
       "      <td>3057.90</td>\n",
       "    </tr>\n",
       "    <tr>\n",
       "      <th>4</th>\n",
       "      <td>1005</td>\n",
       "      <td>2017</td>\n",
       "      <td>Punjab</td>\n",
       "      <td>Rice</td>\n",
       "      <td>493.0</td>\n",
       "      <td>alluvial</td>\n",
       "      <td>3033.00</td>\n",
       "    </tr>\n",
       "    <tr>\n",
       "      <th>5</th>\n",
       "      <td>1006</td>\n",
       "      <td>2014</td>\n",
       "      <td>Punjab</td>\n",
       "      <td>Bajra</td>\n",
       "      <td>384.9</td>\n",
       "      <td>Loamy</td>\n",
       "      <td>1.20</td>\n",
       "    </tr>\n",
       "    <tr>\n",
       "      <th>6</th>\n",
       "      <td>1007</td>\n",
       "      <td>2013</td>\n",
       "      <td>Punjab</td>\n",
       "      <td>Bajra</td>\n",
       "      <td>619.7</td>\n",
       "      <td>Loamy</td>\n",
       "      <td>3.81</td>\n",
       "    </tr>\n",
       "    <tr>\n",
       "      <th>7</th>\n",
       "      <td>1008</td>\n",
       "      <td>2011</td>\n",
       "      <td>Punjab</td>\n",
       "      <td>Bajra</td>\n",
       "      <td>218.9</td>\n",
       "      <td>Loamy</td>\n",
       "      <td>2.50</td>\n",
       "    </tr>\n",
       "  </tbody>\n",
       "</table>\n",
       "</div>"
      ],
      "text/plain": [
       "     id  Year   State Crop_Type  Rainfall Soil_Type  Irrigation_Area\n",
       "0  1001  2021  Punjab     Wheat     556.9     Loamy          3500.70\n",
       "1  1002  2020  Punjab     Wheat     602.6     Loamy          3509.50\n",
       "2  1003  2019  Punjab      Rice     578.6  alluvial          3091.80\n",
       "3  1004  2018  Punjab      Rice     598.3  alluvial          3057.90\n",
       "4  1005  2017  Punjab      Rice     493.0  alluvial          3033.00\n",
       "5  1006  2014  Punjab     Bajra     384.9     Loamy             1.20\n",
       "6  1007  2013  Punjab     Bajra     619.7     Loamy             3.81\n",
       "7  1008  2011  Punjab     Bajra     218.9     Loamy             2.50"
      ]
     },
     "execution_count": 32,
     "metadata": {},
     "output_type": "execute_result"
    }
   ],
   "source": [
    "test_df"
   ]
  },
  {
   "cell_type": "code",
   "execution_count": 33,
   "id": "3e32512b",
   "metadata": {
    "execution": {
     "iopub.execute_input": "2024-12-24T02:46:11.443147Z",
     "iopub.status.busy": "2024-12-24T02:46:11.442703Z",
     "iopub.status.idle": "2024-12-24T02:46:11.463009Z",
     "shell.execute_reply": "2024-12-24T02:46:11.461818Z"
    },
    "papermill": {
     "duration": 0.036735,
     "end_time": "2024-12-24T02:46:11.465241",
     "exception": false,
     "start_time": "2024-12-24T02:46:11.428506",
     "status": "completed"
    },
    "tags": []
   },
   "outputs": [
    {
     "data": {
      "text/html": [
       "<div>\n",
       "<style scoped>\n",
       "    .dataframe tbody tr th:only-of-type {\n",
       "        vertical-align: middle;\n",
       "    }\n",
       "\n",
       "    .dataframe tbody tr th {\n",
       "        vertical-align: top;\n",
       "    }\n",
       "\n",
       "    .dataframe thead th {\n",
       "        text-align: right;\n",
       "    }\n",
       "</style>\n",
       "<table border=\"1\" class=\"dataframe\">\n",
       "  <thead>\n",
       "    <tr style=\"text-align: right;\">\n",
       "      <th></th>\n",
       "      <th>Crop_Type_Rice</th>\n",
       "      <th>Crop_Type_Wheat</th>\n",
       "      <th>Soil_Type_alluvial</th>\n",
       "      <th>Rainfall</th>\n",
       "      <th>Irrigation_Area</th>\n",
       "    </tr>\n",
       "  </thead>\n",
       "  <tbody>\n",
       "    <tr>\n",
       "      <th>0</th>\n",
       "      <td>0.0</td>\n",
       "      <td>1.0</td>\n",
       "      <td>0.0</td>\n",
       "      <td>556.9</td>\n",
       "      <td>3500.70</td>\n",
       "    </tr>\n",
       "    <tr>\n",
       "      <th>1</th>\n",
       "      <td>0.0</td>\n",
       "      <td>1.0</td>\n",
       "      <td>0.0</td>\n",
       "      <td>602.6</td>\n",
       "      <td>3509.50</td>\n",
       "    </tr>\n",
       "    <tr>\n",
       "      <th>2</th>\n",
       "      <td>1.0</td>\n",
       "      <td>0.0</td>\n",
       "      <td>1.0</td>\n",
       "      <td>578.6</td>\n",
       "      <td>3091.80</td>\n",
       "    </tr>\n",
       "    <tr>\n",
       "      <th>3</th>\n",
       "      <td>1.0</td>\n",
       "      <td>0.0</td>\n",
       "      <td>1.0</td>\n",
       "      <td>598.3</td>\n",
       "      <td>3057.90</td>\n",
       "    </tr>\n",
       "    <tr>\n",
       "      <th>4</th>\n",
       "      <td>1.0</td>\n",
       "      <td>0.0</td>\n",
       "      <td>1.0</td>\n",
       "      <td>493.0</td>\n",
       "      <td>3033.00</td>\n",
       "    </tr>\n",
       "    <tr>\n",
       "      <th>5</th>\n",
       "      <td>0.0</td>\n",
       "      <td>0.0</td>\n",
       "      <td>0.0</td>\n",
       "      <td>384.9</td>\n",
       "      <td>1.20</td>\n",
       "    </tr>\n",
       "    <tr>\n",
       "      <th>6</th>\n",
       "      <td>0.0</td>\n",
       "      <td>0.0</td>\n",
       "      <td>0.0</td>\n",
       "      <td>619.7</td>\n",
       "      <td>3.81</td>\n",
       "    </tr>\n",
       "    <tr>\n",
       "      <th>7</th>\n",
       "      <td>0.0</td>\n",
       "      <td>0.0</td>\n",
       "      <td>0.0</td>\n",
       "      <td>218.9</td>\n",
       "      <td>2.50</td>\n",
       "    </tr>\n",
       "  </tbody>\n",
       "</table>\n",
       "</div>"
      ],
      "text/plain": [
       "   Crop_Type_Rice  Crop_Type_Wheat  Soil_Type_alluvial  Rainfall  \\\n",
       "0             0.0              1.0                 0.0     556.9   \n",
       "1             0.0              1.0                 0.0     602.6   \n",
       "2             1.0              0.0                 1.0     578.6   \n",
       "3             1.0              0.0                 1.0     598.3   \n",
       "4             1.0              0.0                 1.0     493.0   \n",
       "5             0.0              0.0                 0.0     384.9   \n",
       "6             0.0              0.0                 0.0     619.7   \n",
       "7             0.0              0.0                 0.0     218.9   \n",
       "\n",
       "   Irrigation_Area  \n",
       "0          3500.70  \n",
       "1          3509.50  \n",
       "2          3091.80  \n",
       "3          3057.90  \n",
       "4          3033.00  \n",
       "5             1.20  \n",
       "6             3.81  \n",
       "7             2.50  "
      ]
     },
     "execution_count": 33,
     "metadata": {},
     "output_type": "execute_result"
    }
   ],
   "source": [
    "# Apply the preprocessing to the training data\n",
    "test_df_transformed = apply_transformations(test_df.drop(columns=['id','State']), categorical_cols, numerical_cols)\n",
    "test_df_transformed"
   ]
  },
  {
   "cell_type": "code",
   "execution_count": 34,
   "id": "e15f48fc",
   "metadata": {
    "execution": {
     "iopub.execute_input": "2024-12-24T02:46:11.491953Z",
     "iopub.status.busy": "2024-12-24T02:46:11.491510Z",
     "iopub.status.idle": "2024-12-24T02:46:11.498655Z",
     "shell.execute_reply": "2024-12-24T02:46:11.497462Z"
    },
    "papermill": {
     "duration": 0.023154,
     "end_time": "2024-12-24T02:46:11.500987",
     "exception": false,
     "start_time": "2024-12-24T02:46:11.477833",
     "status": "completed"
    },
    "tags": []
   },
   "outputs": [],
   "source": [
    "test_df_transformed['Year_Encoded'] = year_encoder.transform(test_df['Year'])"
   ]
  },
  {
   "cell_type": "code",
   "execution_count": 35,
   "id": "b19223dc",
   "metadata": {
    "execution": {
     "iopub.execute_input": "2024-12-24T02:46:11.527734Z",
     "iopub.status.busy": "2024-12-24T02:46:11.527210Z",
     "iopub.status.idle": "2024-12-24T02:46:11.543939Z",
     "shell.execute_reply": "2024-12-24T02:46:11.542260Z"
    },
    "papermill": {
     "duration": 0.033038,
     "end_time": "2024-12-24T02:46:11.546432",
     "exception": false,
     "start_time": "2024-12-24T02:46:11.513394",
     "status": "completed"
    },
    "tags": []
   },
   "outputs": [
    {
     "data": {
      "text/html": [
       "<div>\n",
       "<style scoped>\n",
       "    .dataframe tbody tr th:only-of-type {\n",
       "        vertical-align: middle;\n",
       "    }\n",
       "\n",
       "    .dataframe tbody tr th {\n",
       "        vertical-align: top;\n",
       "    }\n",
       "\n",
       "    .dataframe thead th {\n",
       "        text-align: right;\n",
       "    }\n",
       "</style>\n",
       "<table border=\"1\" class=\"dataframe\">\n",
       "  <thead>\n",
       "    <tr style=\"text-align: right;\">\n",
       "      <th></th>\n",
       "      <th>Crop_Type_Rice</th>\n",
       "      <th>Crop_Type_Wheat</th>\n",
       "      <th>Soil_Type_alluvial</th>\n",
       "      <th>Rainfall</th>\n",
       "      <th>Irrigation_Area</th>\n",
       "      <th>Year_Encoded</th>\n",
       "    </tr>\n",
       "  </thead>\n",
       "  <tbody>\n",
       "    <tr>\n",
       "      <th>0</th>\n",
       "      <td>0.0</td>\n",
       "      <td>1.0</td>\n",
       "      <td>0.0</td>\n",
       "      <td>556.9</td>\n",
       "      <td>3500.70</td>\n",
       "      <td>20</td>\n",
       "    </tr>\n",
       "    <tr>\n",
       "      <th>1</th>\n",
       "      <td>0.0</td>\n",
       "      <td>1.0</td>\n",
       "      <td>0.0</td>\n",
       "      <td>602.6</td>\n",
       "      <td>3509.50</td>\n",
       "      <td>19</td>\n",
       "    </tr>\n",
       "    <tr>\n",
       "      <th>2</th>\n",
       "      <td>1.0</td>\n",
       "      <td>0.0</td>\n",
       "      <td>1.0</td>\n",
       "      <td>578.6</td>\n",
       "      <td>3091.80</td>\n",
       "      <td>18</td>\n",
       "    </tr>\n",
       "    <tr>\n",
       "      <th>3</th>\n",
       "      <td>1.0</td>\n",
       "      <td>0.0</td>\n",
       "      <td>1.0</td>\n",
       "      <td>598.3</td>\n",
       "      <td>3057.90</td>\n",
       "      <td>17</td>\n",
       "    </tr>\n",
       "    <tr>\n",
       "      <th>4</th>\n",
       "      <td>1.0</td>\n",
       "      <td>0.0</td>\n",
       "      <td>1.0</td>\n",
       "      <td>493.0</td>\n",
       "      <td>3033.00</td>\n",
       "      <td>16</td>\n",
       "    </tr>\n",
       "    <tr>\n",
       "      <th>5</th>\n",
       "      <td>0.0</td>\n",
       "      <td>0.0</td>\n",
       "      <td>0.0</td>\n",
       "      <td>384.9</td>\n",
       "      <td>1.20</td>\n",
       "      <td>13</td>\n",
       "    </tr>\n",
       "    <tr>\n",
       "      <th>6</th>\n",
       "      <td>0.0</td>\n",
       "      <td>0.0</td>\n",
       "      <td>0.0</td>\n",
       "      <td>619.7</td>\n",
       "      <td>3.81</td>\n",
       "      <td>12</td>\n",
       "    </tr>\n",
       "    <tr>\n",
       "      <th>7</th>\n",
       "      <td>0.0</td>\n",
       "      <td>0.0</td>\n",
       "      <td>0.0</td>\n",
       "      <td>218.9</td>\n",
       "      <td>2.50</td>\n",
       "      <td>11</td>\n",
       "    </tr>\n",
       "  </tbody>\n",
       "</table>\n",
       "</div>"
      ],
      "text/plain": [
       "   Crop_Type_Rice  Crop_Type_Wheat  Soil_Type_alluvial  Rainfall  \\\n",
       "0             0.0              1.0                 0.0     556.9   \n",
       "1             0.0              1.0                 0.0     602.6   \n",
       "2             1.0              0.0                 1.0     578.6   \n",
       "3             1.0              0.0                 1.0     598.3   \n",
       "4             1.0              0.0                 1.0     493.0   \n",
       "5             0.0              0.0                 0.0     384.9   \n",
       "6             0.0              0.0                 0.0     619.7   \n",
       "7             0.0              0.0                 0.0     218.9   \n",
       "\n",
       "   Irrigation_Area  Year_Encoded  \n",
       "0          3500.70            20  \n",
       "1          3509.50            19  \n",
       "2          3091.80            18  \n",
       "3          3057.90            17  \n",
       "4          3033.00            16  \n",
       "5             1.20            13  \n",
       "6             3.81            12  \n",
       "7             2.50            11  "
      ]
     },
     "execution_count": 35,
     "metadata": {},
     "output_type": "execute_result"
    }
   ],
   "source": [
    "test_df_transformed"
   ]
  },
  {
   "cell_type": "code",
   "execution_count": 36,
   "id": "bbe0bb66",
   "metadata": {
    "execution": {
     "iopub.execute_input": "2024-12-24T02:46:11.573194Z",
     "iopub.status.busy": "2024-12-24T02:46:11.572820Z",
     "iopub.status.idle": "2024-12-24T02:46:11.770324Z",
     "shell.execute_reply": "2024-12-24T02:46:11.769083Z"
    },
    "papermill": {
     "duration": 0.213947,
     "end_time": "2024-12-24T02:46:11.772910",
     "exception": false,
     "start_time": "2024-12-24T02:46:11.558963",
     "status": "completed"
    },
    "tags": []
   },
   "outputs": [],
   "source": [
    "gb_model.fit(X_final,y)\n",
    "rf_model.fit(X_final,y)\n",
    "\n",
    "y1 = gb_model.predict(test_df_transformed)\n",
    "y2 = rf_model.predict(test_df_transformed)\n",
    "y_pred = ((0.8 * y1) + (0.2 * y2))"
   ]
  },
  {
   "cell_type": "code",
   "execution_count": 37,
   "id": "13610ce7",
   "metadata": {
    "execution": {
     "iopub.execute_input": "2024-12-24T02:46:11.799280Z",
     "iopub.status.busy": "2024-12-24T02:46:11.798891Z",
     "iopub.status.idle": "2024-12-24T02:46:11.804728Z",
     "shell.execute_reply": "2024-12-24T02:46:11.803535Z"
    },
    "papermill": {
     "duration": 0.022363,
     "end_time": "2024-12-24T02:46:11.807306",
     "exception": false,
     "start_time": "2024-12-24T02:46:11.784943",
     "status": "completed"
    },
    "tags": []
   },
   "outputs": [],
   "source": [
    "if y_pred[5]<0:\n",
    "    y_pred[5]=0"
   ]
  },
  {
   "cell_type": "code",
   "execution_count": 38,
   "id": "8167ae74",
   "metadata": {
    "execution": {
     "iopub.execute_input": "2024-12-24T02:46:11.834234Z",
     "iopub.status.busy": "2024-12-24T02:46:11.833812Z",
     "iopub.status.idle": "2024-12-24T02:46:11.844878Z",
     "shell.execute_reply": "2024-12-24T02:46:11.843596Z"
    },
    "papermill": {
     "duration": 0.027816,
     "end_time": "2024-12-24T02:46:11.847325",
     "exception": false,
     "start_time": "2024-12-24T02:46:11.819509",
     "status": "completed"
    },
    "tags": []
   },
   "outputs": [
    {
     "data": {
      "text/html": [
       "<div>\n",
       "<style scoped>\n",
       "    .dataframe tbody tr th:only-of-type {\n",
       "        vertical-align: middle;\n",
       "    }\n",
       "\n",
       "    .dataframe tbody tr th {\n",
       "        vertical-align: top;\n",
       "    }\n",
       "\n",
       "    .dataframe thead th {\n",
       "        text-align: right;\n",
       "    }\n",
       "</style>\n",
       "<table border=\"1\" class=\"dataframe\">\n",
       "  <thead>\n",
       "    <tr style=\"text-align: right;\">\n",
       "      <th></th>\n",
       "      <th>id</th>\n",
       "      <th>Target</th>\n",
       "    </tr>\n",
       "  </thead>\n",
       "  <tbody>\n",
       "    <tr>\n",
       "      <th>0</th>\n",
       "      <td>1001</td>\n",
       "      <td>4867.464597</td>\n",
       "    </tr>\n",
       "    <tr>\n",
       "      <th>1</th>\n",
       "      <td>1002</td>\n",
       "      <td>5026.769258</td>\n",
       "    </tr>\n",
       "    <tr>\n",
       "      <th>2</th>\n",
       "      <td>1003</td>\n",
       "      <td>4154.116243</td>\n",
       "    </tr>\n",
       "    <tr>\n",
       "      <th>3</th>\n",
       "      <td>1004</td>\n",
       "      <td>4125.823510</td>\n",
       "    </tr>\n",
       "    <tr>\n",
       "      <th>4</th>\n",
       "      <td>1005</td>\n",
       "      <td>4196.055462</td>\n",
       "    </tr>\n",
       "    <tr>\n",
       "      <th>5</th>\n",
       "      <td>1006</td>\n",
       "      <td>433.057309</td>\n",
       "    </tr>\n",
       "    <tr>\n",
       "      <th>6</th>\n",
       "      <td>1007</td>\n",
       "      <td>937.520296</td>\n",
       "    </tr>\n",
       "    <tr>\n",
       "      <th>7</th>\n",
       "      <td>1008</td>\n",
       "      <td>940.989608</td>\n",
       "    </tr>\n",
       "  </tbody>\n",
       "</table>\n",
       "</div>"
      ],
      "text/plain": [
       "     id       Target\n",
       "0  1001  4867.464597\n",
       "1  1002  5026.769258\n",
       "2  1003  4154.116243\n",
       "3  1004  4125.823510\n",
       "4  1005  4196.055462\n",
       "5  1006   433.057309\n",
       "6  1007   937.520296\n",
       "7  1008   940.989608"
      ]
     },
     "execution_count": 38,
     "metadata": {},
     "output_type": "execute_result"
    }
   ],
   "source": [
    "submission_df = pd.DataFrame({\n",
    "    'id': test_df['id'], \n",
    "    'Target': y_pred\n",
    "})\n",
    "\n",
    "submission_df"
   ]
  },
  {
   "cell_type": "code",
   "execution_count": 39,
   "id": "86534030",
   "metadata": {
    "execution": {
     "iopub.execute_input": "2024-12-24T02:46:11.873274Z",
     "iopub.status.busy": "2024-12-24T02:46:11.872820Z",
     "iopub.status.idle": "2024-12-24T02:46:11.882302Z",
     "shell.execute_reply": "2024-12-24T02:46:11.881056Z"
    },
    "papermill": {
     "duration": 0.025629,
     "end_time": "2024-12-24T02:46:11.884935",
     "exception": false,
     "start_time": "2024-12-24T02:46:11.859306",
     "status": "completed"
    },
    "tags": []
   },
   "outputs": [
    {
     "name": "stdout",
     "output_type": "stream",
     "text": [
      "Submission file created: submission.csv\n"
     ]
    }
   ],
   "source": [
    "submission_df.to_csv('submission.csv', index=False)\n",
    "print(\"Submission file created: submission.csv\")"
   ]
  },
  {
   "cell_type": "code",
   "execution_count": null,
   "id": "32a7a360",
   "metadata": {
    "papermill": {
     "duration": 0.011768,
     "end_time": "2024-12-24T02:46:11.909054",
     "exception": false,
     "start_time": "2024-12-24T02:46:11.897286",
     "status": "completed"
    },
    "tags": []
   },
   "outputs": [],
   "source": []
  }
 ],
 "metadata": {
  "kaggle": {
   "accelerator": "none",
   "dataSources": [
    {
     "databundleVersionId": 10457622,
     "sourceId": 90101,
     "sourceType": "competition"
    }
   ],
   "dockerImageVersionId": 30804,
   "isGpuEnabled": false,
   "isInternetEnabled": true,
   "language": "python",
   "sourceType": "notebook"
  },
  "kernelspec": {
   "display_name": "Python 3",
   "language": "python",
   "name": "python3"
  },
  "language_info": {
   "codemirror_mode": {
    "name": "ipython",
    "version": 3
   },
   "file_extension": ".py",
   "mimetype": "text/x-python",
   "name": "python",
   "nbconvert_exporter": "python",
   "pygments_lexer": "ipython3",
   "version": "3.10.11"
  },
  "papermill": {
   "default_parameters": {},
   "duration": 11.463753,
   "end_time": "2024-12-24T02:46:12.642988",
   "environment_variables": {},
   "exception": null,
   "input_path": "__notebook__.ipynb",
   "output_path": "__notebook__.ipynb",
   "parameters": {},
   "start_time": "2024-12-24T02:46:01.179235",
   "version": "2.6.0"
  }
 },
 "nbformat": 4,
 "nbformat_minor": 5
}
